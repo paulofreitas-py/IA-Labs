{
  "nbformat": 4,
  "nbformat_minor": 0,
  "metadata": {
    "colab": {
      "provenance": []
    },
    "kernelspec": {
      "name": "python3",
      "display_name": "Python 3"
    },
    "language_info": {
      "name": "python"
    }
  },
  "cells": [
    {
      "cell_type": "markdown",
      "metadata": {
        "id": "FkGpI_1qoq9S"
      },
      "source": [
        "![alt text](https://encrypted-tbn0.gstatic.com/images?q=tbn%3AANd9GcTK4gQ9nhwHHaSXMHpeggWg7twwMCgb877smkRmtkmDeDoGF9Z6&usqp=CAU)"
      ]
    },
    {
      "cell_type": "markdown",
      "source": [
        "# <font color = Blue> Search Web API's com LLM"
      ],
      "metadata": {
        "id": "quOfNq04ycLl"
      }
    },
    {
      "cell_type": "markdown",
      "source": [
        "#Agentes de Pesquisa"
      ],
      "metadata": {
        "id": "P7nlZhf2uvFm"
      }
    },
    {
      "cell_type": "code",
      "source": [
        "!pip install exa_py"
      ],
      "metadata": {
        "id": "Er7VhaDRzg4L",
        "colab": {
          "base_uri": "https://localhost:8080/"
        },
        "outputId": "bf1a017b-ce84-42b9-ffab-4756f88aec61"
      },
      "execution_count": null,
      "outputs": [
        {
          "output_type": "stream",
          "name": "stdout",
          "text": [
            "Collecting exa_py\n",
            "  Downloading exa_py-1.9.0-py3-none-any.whl.metadata (3.4 kB)\n",
            "Requirement already satisfied: openai<2.0,>=1.48 in /usr/local/lib/python3.11/dist-packages (from exa_py) (1.61.1)\n",
            "Requirement already satisfied: requests<3.0.0,>=2.32.3 in /usr/local/lib/python3.11/dist-packages (from exa_py) (2.32.3)\n",
            "Requirement already satisfied: typing-extensions<5.0.0,>=4.12.2 in /usr/local/lib/python3.11/dist-packages (from exa_py) (4.12.2)\n",
            "Requirement already satisfied: anyio<5,>=3.5.0 in /usr/local/lib/python3.11/dist-packages (from openai<2.0,>=1.48->exa_py) (3.7.1)\n",
            "Requirement already satisfied: distro<2,>=1.7.0 in /usr/local/lib/python3.11/dist-packages (from openai<2.0,>=1.48->exa_py) (1.9.0)\n",
            "Requirement already satisfied: httpx<1,>=0.23.0 in /usr/local/lib/python3.11/dist-packages (from openai<2.0,>=1.48->exa_py) (0.28.1)\n",
            "Requirement already satisfied: jiter<1,>=0.4.0 in /usr/local/lib/python3.11/dist-packages (from openai<2.0,>=1.48->exa_py) (0.9.0)\n",
            "Requirement already satisfied: pydantic<3,>=1.9.0 in /usr/local/lib/python3.11/dist-packages (from openai<2.0,>=1.48->exa_py) (2.10.6)\n",
            "Requirement already satisfied: sniffio in /usr/local/lib/python3.11/dist-packages (from openai<2.0,>=1.48->exa_py) (1.3.1)\n",
            "Requirement already satisfied: tqdm>4 in /usr/local/lib/python3.11/dist-packages (from openai<2.0,>=1.48->exa_py) (4.67.1)\n",
            "Requirement already satisfied: charset-normalizer<4,>=2 in /usr/local/lib/python3.11/dist-packages (from requests<3.0.0,>=2.32.3->exa_py) (3.4.1)\n",
            "Requirement already satisfied: idna<4,>=2.5 in /usr/local/lib/python3.11/dist-packages (from requests<3.0.0,>=2.32.3->exa_py) (3.10)\n",
            "Requirement already satisfied: urllib3<3,>=1.21.1 in /usr/local/lib/python3.11/dist-packages (from requests<3.0.0,>=2.32.3->exa_py) (2.3.0)\n",
            "Requirement already satisfied: certifi>=2017.4.17 in /usr/local/lib/python3.11/dist-packages (from requests<3.0.0,>=2.32.3->exa_py) (2025.1.31)\n",
            "Requirement already satisfied: httpcore==1.* in /usr/local/lib/python3.11/dist-packages (from httpx<1,>=0.23.0->openai<2.0,>=1.48->exa_py) (1.0.7)\n",
            "Requirement already satisfied: h11<0.15,>=0.13 in /usr/local/lib/python3.11/dist-packages (from httpcore==1.*->httpx<1,>=0.23.0->openai<2.0,>=1.48->exa_py) (0.14.0)\n",
            "Requirement already satisfied: annotated-types>=0.6.0 in /usr/local/lib/python3.11/dist-packages (from pydantic<3,>=1.9.0->openai<2.0,>=1.48->exa_py) (0.7.0)\n",
            "Requirement already satisfied: pydantic-core==2.27.2 in /usr/local/lib/python3.11/dist-packages (from pydantic<3,>=1.9.0->openai<2.0,>=1.48->exa_py) (2.27.2)\n",
            "Downloading exa_py-1.9.0-py3-none-any.whl (12 kB)\n",
            "Installing collected packages: exa_py\n",
            "Successfully installed exa_py-1.9.0\n"
          ]
        }
      ]
    },
    {
      "cell_type": "code",
      "execution_count": null,
      "metadata": {
        "id": "qMoEZXeGyp2A",
        "colab": {
          "base_uri": "https://localhost:8080/"
        },
        "outputId": "0e8a8f95-b5af-4256-c124-b683a5e9f490"
      },
      "outputs": [
        {
          "output_type": "stream",
          "name": "stdout",
          "text": [
            "Brazil Artificial Intelligence Market Size & Outlook, 2030:https://www.grandviewresearch.com/horizon/outlook/artificial-intelligence-market/brazil\n",
            ":https://www.gov.br/mre/pt-br/assuntos/noticias/o-brasil-no-mundo/anexos/report-artificial-intelligence-in-brazil-and-the-united-kingdom.pdf\n",
            "Brazil AI in Agriculture Market to Grow at CAGR of 7.67% through 2029F:https://www.techsciresearch.com/news/18175-brazil-ai-in-agriculture-market.html\n",
            ":https://cetic.br/media/docs/publicacoes/6/20240514085413/iso-year-xvi-n-1-ia-development-in-brazil.pdf\n",
            "Os desafios do uso da Inteligência Artificial no Brasil:https://abes.com.br/en/os-desafios-do-uso-da-inteligencia-artificial-no-brasil/\n",
            "Impacto da Inteligência Artificial na economia brasileira:https://analiseeconomica.com.br/inteligencia-artificial-na-economia-brasileira/\n",
            "A adoção de inteligência artificial pode adicionar 4,2 pontos percentuais de crescimento adicional ao PIB do Brasil até 2030:https://news.microsoft.com/pt-br/a-adocao-de-inteligencia-artificial-pode-adicionar-42-pontos-percentuais-de-crescimento-adicional-ao-pib-do-brasil-ate-2030/\n",
            ":https://cetic.br/media/docs/publicacoes/7/20240903150639/estudos_setoriais-ia-na-saude.pdf\n",
            "Brazil | The AI Policy Observatory for the World of Work | University of Essex:https://www.essex.ac.uk/research-projects/ai-policy-observatory-for-the-world-of-work/national-and-regional-cases/brazil\n",
            "Inteligência artificial já é parte do dia a dia de 74% das MPMEs brasileiras, diz Microsoft | Exame:https://exame.com/inteligencia-artificial/inteligencia-artificial-ja-e-parte-do-dia-a-dia-de-74-das-mpmes-brasileiras-diz-microsoft/\n",
            "Resumo para https://www.grandviewresearch.com/horizon/outlook/artificial-intelligence-market/brazil:\n",
            "O mercado de Inteligência Artificial (IA) no Brasil está em rápido crescimento, previsto para alcançar uma receita de US$ 475,1 milhões em 2024 e US$ 2,577,5 bilhões até 2030. Com mais de 30 mil relatórios globais e 1,2 milhão de estatísticas de mercado disponíveis, empresas como a Horizon Databook fornecem análises abrangentes nesse setor. A segmentação do mercado abrange software, serviços e hardware, demonstrando que o software detém a maior participação de receita.\n",
            "\n",
            "Entre os prós da Horizon Databook estão o acesso a dados abrangentes, inteligência de mercado e a capacidade de internacionalização de relatórios, facilitando decisões informadas para empresas e investidores. Por outro lado, como contras, pode haver desafios relacionados à personalização e adaptabilidade das análises para setores específicos, além da necessidade de registramento para acessar os dados.\n",
            "\n",
            "A análise do tamanho do mercado de IA no Brasil revela um ambiente em expansão, impulsionado por um aumento no uso da internet e avanços técnicos em infraestrutura digital. Principais players incluem empresas de tecnologia e firmas de investimento que colaboram com a Horizon Databook. Para melhorar a competitividade, recomenda-se o fortalecimento da infraestrutura de dados, investimentos em educação técnica e o fomento a parcerias entre setores público e privado que possam estimular a inovação e adoção de tecnologias emergentes.\n"
          ]
        }
      ],
      "source": [
        "from exa_py import Exa\n",
        "import os\n",
        "import textwrap\n",
        "import openai\n",
        "from google.colab import userdata\n",
        "\n",
        "# Definindo a chave da API OpenAI e EXA\n",
        "openai.api_key = userdata.get(\"OPENAI_API_KEY\")\n",
        "EXA_API_KEY = userdata.get('EXA_API_KEY')\n",
        "\n",
        "# Verificação para garantir que a chave de API do Exa foi carregada\n",
        "if EXA_API_KEY is None:\n",
        "    raise ValueError(\"A chave EXA_API_KEY não foi encontrada no ambiente. Verifique se foi configurada corretamente.\")\n",
        "\n",
        "# Inicializando o Exa com a chave de API\n",
        "exa = Exa(api_key=EXA_API_KEY)\n",
        "\n",
        "# Etapa 1: Buscar informações de players do mercado de nutrição bovina no Brasil\n",
        "search_term = \"mercado de inteligência artificial no Brasil\"  # Palavra-chave para a busca\n",
        "search_response = exa.search_and_contents(\n",
        "        search_term,\n",
        "        highlights={\"num_sentences\": 2},\n",
        "        num_results=10)\n",
        "\n",
        "companies = search_response.results\n",
        "\n",
        "# Exibir títulos e URLs das empresas encontradas\n",
        "urls = {}\n",
        "for c in companies:\n",
        "    print(c.title + ':' + c.url)\n",
        "\n",
        "# Etapa 2: Analisando uma das empresas encontradas\n",
        "c = companies[0]  # Pega a primeira empresa\n",
        "all_contents = \"\"\n",
        "search_response = exa.search_and_contents(\n",
        "  c.url,  # URL da empresa\n",
        "  type=\"keyword\",\n",
        "  num_results=5\n",
        ")\n",
        "research_response = search_response.results\n",
        "\n",
        "for r in research_response:\n",
        "    all_contents += r.text\n",
        "\n",
        "# Definição da função para chamar\n",
        "tools = [\n",
        "    {\n",
        "        \"type\": \"function\",\n",
        "        \"function\": {\n",
        "            \"name\": \"get_delivery_date\",\n",
        "            \"description\": \"Get the delivery date for a customer's order.\",\n",
        "            \"parameters\": {\n",
        "                \"type\": \"object\",\n",
        "                \"properties\": {\n",
        "                    \"order_id\": {\n",
        "                        \"type\": \"string\",\n",
        "                        \"description\": \"The customer's order ID.\",\n",
        "                    },\n",
        "                },\n",
        "                \"required\": [\"order_id\"],\n",
        "                \"additionalProperties\": False,\n",
        "            },\n",
        "        }\n",
        "    }\n",
        "]\n",
        "\n",
        "# Etapa 3: Definindo o sistema de mensagem para gerar relatório com GPT-4\n",
        "SYSTEM_MESSAGE = \"\"\"\n",
        "Você é um assistente sênior escrevendo um relatório de pesquisa sobre o mercado de IA no Brasil.\n",
        "Resuma as informações do usuário em múltiplos parágrafos.\n",
        "Seja extremamente conciso, profissional e o mais factual possível.\n",
        "\n",
        "1. O primeiro parágrafo deve ser uma introdução e resumo de empresas.\n",
        "2. O segundo parágrafo deve incluir os prós e contras da empresa.\n",
        "3. O terceiro parágrafo deve fornecer uma análise do tamanho do mercado de IA no Brasil,\n",
        "principais players e sugestões para melhorar a competitividade.\n",
        "\"\"\"\n",
        "\n",
        "# Mensagens a serem passadas para o modelo\n",
        "messages = [\n",
        "    {\"role\": \"system\", \"content\": SYSTEM_MESSAGE},\n",
        "    {\"role\": \"user\", \"content\": all_contents},\n",
        "]\n",
        "\n",
        "# Correção do método: usando 'chat.completions.create'\n",
        "response = openai.chat.completions.create(\n",
        "    model=\"gpt-4o-mini\",  # Substitua com o modelo desejado\n",
        "    messages=messages,\n",
        "    tools=tools\n",
        ")\n",
        "\n",
        "summary = response.choices[0].message.content\n",
        "\n",
        "# Exibir o resumo\n",
        "print(f\"Resumo para {c.url}:\")\n",
        "print(summary)\n"
      ]
    },
    {
      "cell_type": "code",
      "source": [
        "from exa_py import Exa\n",
        "import os\n",
        "import textwrap\n",
        "import openai\n",
        "from google.colab import userdata\n",
        "from IPython.display import display, Markdown\n",
        "\n",
        "# Definindo a chave da API OpenAI e EXA\n",
        "openai.api_key = userdata.get(\"OPENAI_API_KEY\")\n",
        "EXA_API_KEY = userdata.get('EXA_API_KEY')\n",
        "\n",
        "# Verificação para garantir que a chave de API do Exa foi carregada\n",
        "if EXA_API_KEY is None:\n",
        "    raise ValueError(\"A chave EXA_API_KEY não foi encontrada no ambiente. Verifique se foi configurada corretamente.\")\n",
        "\n",
        "# Inicializando o Exa com a chave de API\n",
        "exa = Exa(api_key=EXA_API_KEY)\n",
        "\n",
        "# Etapa 1: Buscar informações de players do mercado de nutrição bovina no Brasil\n",
        "search_term = \"mercado de IA no Brasil\"  # Palavra-chave para a busca\n",
        "search_response = exa.search_and_contents(\n",
        "        search_term,\n",
        "        highlights={\"num_sentences\": 2},\n",
        "        num_results=15)\n",
        "\n",
        "companies = search_response.results\n",
        "\n",
        "# Exibir títulos e URLs das empresas encontradas\n",
        "urls = {}\n",
        "for c in companies:\n",
        "    print(c.title + ':' + c.url)\n",
        "\n",
        "# Etapa 2: Iterar sobre todas as empresas encontradas\n",
        "for c in companies:\n",
        "    all_contents = \"\"\n",
        "    search_response = exa.search_and_contents(\n",
        "        c.url,  # URL da empresa\n",
        "        type=\"keyword\",\n",
        "        num_results=5\n",
        "    )\n",
        "    research_response = search_response.results\n",
        "\n",
        "    for r in research_response:\n",
        "        all_contents += r.text\n",
        "\n",
        "    # Definição da função para chamar (no caso de function calling, se necessário)\n",
        "    tools = [\n",
        "        {\n",
        "            \"type\": \"function\",\n",
        "            \"function\": {\n",
        "                \"name\": \"get_delivery_date\",\n",
        "                \"description\": \"Get the delivery date for a customer's order.\",\n",
        "                \"parameters\": {\n",
        "                    \"type\": \"object\",\n",
        "                    \"properties\": {\n",
        "                        \"order_id\": {\n",
        "                            \"type\": \"string\",\n",
        "                            \"description\": \"The customer's order ID.\",\n",
        "                        },\n",
        "                    },\n",
        "                    \"required\": [\"order_id\"],\n",
        "                    \"additionalProperties\": False,\n",
        "                },\n",
        "            }\n",
        "        }\n",
        "    ]\n",
        "\n",
        "    # Etapa 3: Definindo o sistema de mensagem para gerar relatório com GPT-4\n",
        "    SYSTEM_MESSAGE = \"\"\"\n",
        "    Você é um assistente sênior escrevendo um relatório de pesquisa sobre o mercado de IA no Brasil.\n",
        "    Resuma as informações do usuário em múltiplos parágrafos.\n",
        "    Seja extremamente conciso, profissional e o mais factual possível.\n",
        "\n",
        "    1. O primeiro parágrafo deve ser uma introdução e resumo da empresa.\n",
        "    2. O segundo parágrafo deve incluir os prós e contras da empresa.\n",
        "    3. O terceiro parágrafo deve fornecer uma análise do tamanho do mercado de IA no Brasil,\n",
        "    principais players e sugestões para melhorar a competitividade.\n",
        "    \"\"\"\n",
        "\n",
        "    # Mensagens a serem passadas para o modelo\n",
        "    messages = [\n",
        "        {\"role\": \"system\", \"content\": SYSTEM_MESSAGE},\n",
        "        {\"role\": \"user\", \"content\": all_contents},\n",
        "    ]\n",
        "\n",
        "    # Correção do método: usando 'chat.completions.create'\n",
        "    response = openai.chat.completions.create(\n",
        "        model=\"gpt-4o-mini\",  # Substitua com o modelo desejado\n",
        "        messages=messages,\n",
        "        tools=tools\n",
        "    )\n",
        "\n",
        "    # Correção para obter o conteúdo da resposta\n",
        "    summary = response.choices[0].message.content\n",
        "    summary_lines = summary.splitlines()\n",
        "\n",
        "    # Garantir que cada seção tenha conteúdo\n",
        "    introduction = summary_lines[0] if len(summary_lines) > 0 else \"Informação não disponível\"\n",
        "    pros_cons = summary_lines[1] if len(summary_lines) > 1 else \"Informação não disponível\"\n",
        "    market_analysis = summary_lines[2] if len(summary_lines) > 2 else \"Informação não disponível\"\n",
        "    recommendations = summary_lines[3] if len(summary_lines) > 3 else \"Informação não disponível\"\n",
        "\n",
        "    # Exibir o resumo formatado em Markdown para cada empresa\n",
        "    formatted_summary = f\"\"\"\n",
        "    ## Relatório : {c.title}\n",
        "\n",
        "    **URL da Fonte**: [{c.url}]({c.url})\n",
        "\n",
        "    ### Introdução e Resumo:\n",
        "    {introduction}\n",
        "\n",
        "    ### Análise do Mercado de IA no Brasil:\n",
        "    {market_analysis}\n",
        "\n",
        "    ### Recomendações:\n",
        "    {recommendations}\n",
        "    \"\"\"\n",
        "\n",
        "    # Exibir o resumo formatado como Markdown\n",
        "    display(Markdown(formatted_summary))\n"
      ],
      "metadata": {
        "id": "WLdCpZyP4M5K",
        "colab": {
          "base_uri": "https://localhost:8080/",
          "height": 1000
        },
        "outputId": "91d43928-f590-4e74-bb17-770c14f0d784"
      },
      "execution_count": null,
      "outputs": [
        {
          "output_type": "stream",
          "name": "stdout",
          "text": [
            "Uso de Inteligência Artificial aumenta e alcança 72% das empresas ...:https://www.cnnbrasil.com.br/economia/negocios/uso-de-inteligencia-artificial-aumenta-e-alcanca-72-das-empresas-diz-pesquisa/\n",
            "Brasil será 2% do mercado global de IA em 2030:https://convergenciadigital.com.br/mercado/brasil-sera-2-do-mercado-global-de-ia-em-2030/\n",
            "Crescimento da inteligência artificial no Brasil impulsiona novos ...:https://keyrus.com/br/pt/insights/crescimento-da-inteligencia-artificial-no-brasil-impulsiona-novos-modelos-de\n",
            "Cenário da IA no Brasil: desafios e perspectivas - Fundação Vanzolini:https://vanzolini.org.br/blog/cenario-da-ia-no-brasil/\n",
            "O impacto e o futuro da Inteligência Artificial no Brasil:https://startup.google.com/intl/pt-BR/inteligencia-artificial/\n",
            "Brasil ultrapassa média global no uso de inteligência artificial ...:https://veja.abril.com.br/tecnologia/brasil-ultrapassa-media-global-no-uso-de-inteligencia-artificial-mostra-pesquisa\n",
            "Brasil está entre os países que mais usam inteligência artificial:https://agenciabrasil.ebc.com.br/geral/noticia/2025-01/brasil-esta-entre-os-paises-que-mais-usam-inteligencia-artificial\n",
            "Mercado de inteligência artificial vai atingir quase US$ 1 trilhão até ...:https://oglobo.globo.com/economia/tecnologia/noticia/2024/09/25/mercado-de-inteligencia-artificial-vai-atingir-quase-us-1-trilhao-ate-2027-preve-consultoria.ghtml\n",
            "Cenário da IA no Brasil: Desafios e perspectivas para os próximos ...:https://www.unicesumar.edu.br/cenario-da-ia-no-brasil-desafios-e-perspectivas-para-os-proximos-anos/\n",
            "No Brasil, 47% dos varejistas já utilizam IA, focando em marketing e ...:https://exame.com/inteligencia-artificial/no-brasil-47-dos-varejistas-ja-utilizam-ia-focando-em-marketing-e-vendas/\n",
            "IA: A tendência que virou necessidade do mercado brasileiro - Terra:https://www.terra.com.br/byte/ia-a-tendencia-que-virou-necessidade-do-mercado-brasileiro,b23359dfefc7b7c30c8b15652739efacth8gzms2.html\n",
            "Brasil domina mercado de startups em IA na América Latina:https://www.poder360.com.br/poder-tech/brasil-domina-mercado-de-startups-em-ia-na-america-latina/\n",
            "Mercado de trabalho 2025: o impacto da Inteligência Artificial no Brasil:https://blog-prd.portalpos.com.br/mercado-de-trabalho-2025-o-impacto-da-inteligencia-artificial-no-brasil/\n",
            "A aposta de empresas brasileiras na inteligência artificial ... - VEJA:https://veja.abril.com.br/economia/a-aposta-de-empresas-brasileiras-na-inteligencia-artificial-para-melhorar-a-eficiencia\n"
          ]
        },
        {
          "output_type": "display_data",
          "data": {
            "text/plain": [
              "<IPython.core.display.Markdown object>"
            ],
            "text/markdown": "\n    ## Relatório : Uso de Inteligência Artificial aumenta e alcança 72% das empresas ...\n\n    **URL da Fonte**: [https://www.cnnbrasil.com.br/economia/negocios/uso-de-inteligencia-artificial-aumenta-e-alcanca-72-das-empresas-diz-pesquisa/](https://www.cnnbrasil.com.br/economia/negocios/uso-de-inteligencia-artificial-aumenta-e-alcanca-72-das-empresas-diz-pesquisa/)\n\n    ### Introdução e Resumo:\n    A Inteligência Artificial (IA) no Brasil está em ascensão, com 72% das empresas adotando essa tecnologia em 2024, um aumento significativo em relação aos 55% do ano anterior, segundo pesquisa da McKinsey. Este crescimento foi impulsionado principalmente pela IA generativa, que passou de 33% para 65% de adoção em apenas um ano. As empresas estão ampliando seus orçamentos para IA, especialmente nas áreas de energia e tecnologia, com o objetivo de otimizar operações, aumentar receitas e oferecer uma experiência mais personalizada aos consumidores.\n\n    ### Análise do Mercado de IA no Brasil:\n    Apesar dos benefícios, a implementação da IA enfrenta desafios significativos, como imprecisão e questões relacionadas à propriedade intelectual, conforme destacado pela McKinsey. Há também a preocupação com o impacto potencial das tecnologias de IA sobre o emprego, com alguns líderes de opinião afirmando que o aumento da automação pode levar a demissões em massa. Esses riscos ressaltam a necessidade de estruturas éticas e responsáveis na aplicação de IA, bem como uma educação robusta sobre suas práticas seguras.\n\n    ### Recomendações:\n    \n    "
          },
          "metadata": {}
        },
        {
          "output_type": "display_data",
          "data": {
            "text/plain": [
              "<IPython.core.display.Markdown object>"
            ],
            "text/markdown": "\n    ## Relatório : Brasil será 2% do mercado global de IA em 2030\n\n    **URL da Fonte**: [https://convergenciadigital.com.br/mercado/brasil-sera-2-do-mercado-global-de-ia-em-2030/](https://convergenciadigital.com.br/mercado/brasil-sera-2-do-mercado-global-de-ia-em-2030/)\n\n    ### Introdução e Resumo:\n    O mercado de inteligência artificial (IA) no Brasil está em rápida expansão, destacando-se como uma prioridade para empresas e governo. Estima-se que a IA cresça 28% anualmente, com a previsão de atingir US$ 16,3 bilhões até 2030. O governo, por meio do Programa Brasileiro de Inteligência Artificial (PBIA), está ativamente investindo em digitalização e inovação nas indústrias, oferecendo linhas de financiamento específicas. As empresas estão adotando soluções de IA para melhorar a experiência do cliente e aumentar a eficiência operacional, com iniciativas notáveis de empresas como Algar Telecom e TIM, que já implementam a tecnologia em seus serviços.\n\n    ### Análise do Mercado de IA no Brasil:\n    Apesar das oportunidades promissoras, o setor enfrenta desafios significativos. Entre os prós, destaca-se a abordagem governamental que visa fomentar a inovação e a disposição do setor privado em investir em soluções de IA. No entanto, os desafios incluem a necessidade de infraestrutura adequada, como energia estável e conectividade, e as complexidades regulatórias que dificultam novos investimentos. Há também uma preocupação com o desenvolvimento de competências técnicas e a necessidade de um alinhamento entre forças governamentais e privadas para impulsionar a competitividade.\n\n    ### Recomendações:\n    \n    "
          },
          "metadata": {}
        },
        {
          "output_type": "display_data",
          "data": {
            "text/plain": [
              "<IPython.core.display.Markdown object>"
            ],
            "text/markdown": "\n    ## Relatório : Crescimento da inteligência artificial no Brasil impulsiona novos ...\n\n    **URL da Fonte**: [https://keyrus.com/br/pt/insights/crescimento-da-inteligencia-artificial-no-brasil-impulsiona-novos-modelos-de](https://keyrus.com/br/pt/insights/crescimento-da-inteligencia-artificial-no-brasil-impulsiona-novos-modelos-de)\n\n    ### Introdução e Resumo:\n    O mercado de Inteligência Artificial (IA) no Brasil tem evoluído rapidamente, destacando-se pela crescente demanda por soluções inovadoras e pela necessidade das empresas de se adaptarem a um ambiente digital em constante mudança. Empresas de diversos setores, incluindo varejo, saúde e agricultura, estão integrando a IA para otimizar operações e personalizar a experiência do cliente. O Brasil ocupa a 15ª posição no ranking global de preparo para IA, conforme o FMI, demonstrando um ambiente favorável para a adoção dessa tecnologia, com 63% das empresas utilizando aplicações baseadas em IA, superior à média da América Latina.\n\n    ### Análise do Mercado de IA no Brasil:\n    Entre os prós da inclusão da IA nas empresas brasileiras, estão a melhora na eficiência operacional e a capacidade de análise de dados para decisões mais informadas. Contudo, os desafios são significativos, incluindo a escassez de mão de obra qualificada e questões éticas e regulatórias que cercam o uso de dados. Esses obstáculos podem ser vistos como oportunidades para desenvolver soluções inovadoras e fortalecer o ecossistema de IA no país.\n\n    ### Recomendações:\n    \n    "
          },
          "metadata": {}
        },
        {
          "output_type": "display_data",
          "data": {
            "text/plain": [
              "<IPython.core.display.Markdown object>"
            ],
            "text/markdown": "\n    ## Relatório : Cenário da IA no Brasil: desafios e perspectivas - Fundação Vanzolini\n\n    **URL da Fonte**: [https://vanzolini.org.br/blog/cenario-da-ia-no-brasil/](https://vanzolini.org.br/blog/cenario-da-ia-no-brasil/)\n\n    ### Introdução e Resumo:\n    A Inteligência Artificial (IA) está se firmando como uma força transformadora no cotidiano e no ambiente corporativo do Brasil, apresentando um crescimento notável em sua adoção. Dispositivos e plataformas de IA já são utilizados por 72% das empresas globalmente, segundo a pesquisa da McKinsey, com um aumento considerável em comparação a 2023. Nesse contexto, o MBA em Estratégia e Inovação com Aplicação de IA da Fundação Vanzolini é uma formação estratégica que emerge como um recurso valioso para líderes e executivos em busca de aprofundamento no uso da IA.\n\n    ### Análise do Mercado de IA no Brasil:\n    Os prós da Fundação Vanzolini incluem um currículo abrangente que combina aspectos teóricos e práticos, preparando profissionais para identificar e integrar a IA nas operações empresariais. Além disso, a instituição investe na capacitação de um número crescente de formandos, alinhando suas competências com as demandas do mercado. Contudo, entre os contras, destacam-se os desafios relacionados à falta de infraestrutura tecnológica em várias regiões e a escassez de profissionais qualificados para liderar projetos de IA, o que pode limitar a eficácia da implementação dessa tecnologia.\n\n    ### Recomendações:\n    \n    "
          },
          "metadata": {}
        },
        {
          "output_type": "display_data",
          "data": {
            "text/plain": [
              "<IPython.core.display.Markdown object>"
            ],
            "text/markdown": "\n    ## Relatório : O impacto e o futuro da Inteligência Artificial no Brasil\n\n    **URL da Fonte**: [https://startup.google.com/intl/pt-BR/inteligencia-artificial/](https://startup.google.com/intl/pt-BR/inteligencia-artificial/)\n\n    ### Introdução e Resumo:\n    Atualmente, o mercado de Inteligência Artificial (IA) no Brasil é impulsionado por um ecossistema crescente de startups que incorporam tecnologia em sua essência. Iniciativas como o Google for Startups, em colaboração com a Abstartups e a Box1824, têm se empenhado em identificar e mitigar os desafios enfrentados por essas empresas, visando alavancar o desenvolvimento da IA no país e consolidar sua presença no mercado global.\n\n    ### Análise do Mercado de IA no Brasil:\n    Entre os principais prós do setor, destaca-se a robustez do potencial do Brasil como uma potência em inovação de IA, com um mercado grande ainda em desenvolvimento. No entanto, a homogeneidade das startups, a falta de diversidade entre fundadores e colaboradores, e a escassez de mão de obra qualificada revelam fragilidades. A concentração geográfica dos negócios nas regiões Sul e Sudeste agrava desigualdades regionais e limita diversas perspectivas criativas e de inovação.\n\n    ### Recomendações:\n    \n    "
          },
          "metadata": {}
        },
        {
          "output_type": "display_data",
          "data": {
            "text/plain": [
              "<IPython.core.display.Markdown object>"
            ],
            "text/markdown": "\n    ## Relatório : Brasil ultrapassa média global no uso de inteligência artificial ...\n\n    **URL da Fonte**: [https://veja.abril.com.br/tecnologia/brasil-ultrapassa-media-global-no-uso-de-inteligencia-artificial-mostra-pesquisa](https://veja.abril.com.br/tecnologia/brasil-ultrapassa-media-global-no-uso-de-inteligencia-artificial-mostra-pesquisa)\n\n    ### Introdução e Resumo:\n    O Brasil tem demonstrado um progresso significativo no uso de inteligência artificial (IA) conforme evidenciado por uma pesquisa global realizada pelo Google em parceria com a Ipsos. O estudo revelou que 54% dos brasileiros utilizaram ferramentas de IA generativa em 2024, superando a média global de 48%. Além disso, 78% afirmam integrar IA em suas atividades diárias, refletindo uma adesão expressiva tanto no ambiente profissional quanto em aplicações cotidianas. O impacto da IA no mercado de trabalho é evidente, com 60% dos brasileiros acreditando na potencial geração de empregos pela tecnologia.\n\n    ### Análise do Mercado de IA no Brasil:\n    Entre os prós, o Brasil apresenta um forte nível de confiança na IA, com 65% dos entrevistados demonstrando fé no seu potencial. No entanto, os desafios incluem a necessidade de maior colaboração entre governo e empresas de tecnologia e uma percepção de que o país precisa avançar na infraestrutura de IA, com apenas 54% acreditando que o país está na direção certa. A pesquisa também ressalta uma lenta diminuição das preocupações sobre mudanças de profissão decorrentes do uso crescente da IA, que reduziu de 20% em 2023 para 15% em 2024.\n\n    ### Recomendações:\n    \n    "
          },
          "metadata": {}
        },
        {
          "output_type": "display_data",
          "data": {
            "text/plain": [
              "<IPython.core.display.Markdown object>"
            ],
            "text/markdown": "\n    ## Relatório : Brasil está entre os países que mais usam inteligência artificial\n\n    **URL da Fonte**: [https://agenciabrasil.ebc.com.br/geral/noticia/2025-01/brasil-esta-entre-os-paises-que-mais-usam-inteligencia-artificial](https://agenciabrasil.ebc.com.br/geral/noticia/2025-01/brasil-esta-entre-os-paises-que-mais-usam-inteligencia-artificial)\n\n    ### Introdução e Resumo:\n    A pesquisa realizada pela Ipsos e Google com 21 mil pessoas em 21 países revelou que, em 2024, o Brasil teve um desempenho destacado no uso de inteligência artificial (IA), com 54% da população relatando utilizar IA generativa, superando a média global de 48%. Os brasileiros demonstraram otimismo em relação aos benefícios dessa tecnologia, com 65% acreditando que ela é promissora e pode contribuir significativamente para diversas áreas, como ciência e medicina. O presidente do Google Brasil, Fábio Coelho, enfatizou a confiança da população no potencial da IA para impactar positivamente a vida cotidiana e o trabalho.\n\n    ### Análise do Mercado de IA no Brasil:\n    Entre os aspectos positivos destacados, a pesquisa mostrou que 60% dos brasileiros esperam que a IA traga mais oportunidades de emprego e que a confiança nas transformações do mercado de trabalho aumentou de 62% para 68% em um ano. Além disso, 78% dos entrevistados afirmaram utilizar IA no ambiente de trabalho, corroborando a importância dessa tecnologia para resolver problemas complexos. Contudo, o otimismo vem acompanhado de desafios, como a necessidade de supervisão regulatória para mitigar riscos associados ao seu uso.\n\n    ### Recomendações:\n    \n    "
          },
          "metadata": {}
        },
        {
          "output_type": "display_data",
          "data": {
            "text/plain": [
              "<IPython.core.display.Markdown object>"
            ],
            "text/markdown": "\n    ## Relatório : Mercado de inteligência artificial vai atingir quase US$ 1 trilhão até ...\n\n    **URL da Fonte**: [https://oglobo.globo.com/economia/tecnologia/noticia/2024/09/25/mercado-de-inteligencia-artificial-vai-atingir-quase-us-1-trilhao-ate-2027-preve-consultoria.ghtml](https://oglobo.globo.com/economia/tecnologia/noticia/2024/09/25/mercado-de-inteligencia-artificial-vai-atingir-quase-us-1-trilhao-ate-2027-preve-consultoria.ghtml)\n\n    ### Introdução e Resumo:\n    O mercado de Inteligência Artificial (IA) no Brasil está em rápida ascensão, impulsionado por um crescimento global que se projeta atingir US$ 990 bilhões até 2027, segundo a Bain & Co. A empresa informa que o setor, incluindo serviços e hardware, crescerá entre 40% e 55% ao ano, com um aumento significativo na adoção de tecnologias robustas. O Brasil, que já investe R$ 2,2 bilhões em IA generativa em 2024, é um ator importante, com um mercado estimado para crescer 28,6% anualmente até 2030.\n\n    ### Análise do Mercado de IA no Brasil:\n    Os prós do setor incluem a aplicação de IA em segmentos como finanças e agropecuária, que já demonstram resultados claros em eficiência e precisão. A ampliação de centros de dados necessários para suportar modelos de IA mais complexos é um indicativo do potencial de crescimento. Por outro lado, os contras incluem a escassez de componentes essenciais, como semicondutores, que podem restringir a capacidade de expansão. Além disso, a defesa de um marco regulatório e a construção de ecossistemas sustentáveis são desafios fundamentais a serem enfrentados.\n\n    ### Recomendações:\n    \n    "
          },
          "metadata": {}
        },
        {
          "output_type": "display_data",
          "data": {
            "text/plain": [
              "<IPython.core.display.Markdown object>"
            ],
            "text/markdown": "\n    ## Relatório : Cenário da IA no Brasil: Desafios e perspectivas para os próximos ...\n\n    **URL da Fonte**: [https://www.unicesumar.edu.br/cenario-da-ia-no-brasil-desafios-e-perspectivas-para-os-proximos-anos/](https://www.unicesumar.edu.br/cenario-da-ia-no-brasil-desafios-e-perspectivas-para-os-proximos-anos/)\n\n    ### Introdução e Resumo:\n    A Inteligência Artificial (IA) está emergindo como uma força transformadora no mercado brasileiro, impactando diversos setores, desde a saúde até a educação e finanças. O Brasil, ao lado de sua crescente adoção de tecnologias digitais, se vê diante de um déficit crítico de profissionais qualificados. Segundo a pesquisa IOT Snapshot 2024, apenas 23% das empresas possuem equipes capacitadas para desenvolver IA, enquanto 73% não têm setores dedicados à área, resultando em uma escassez de aproximadamente 530 mil profissionais até 2025. Essa situação foi corroborada em um relatório da Google e da associação Abstartups, que aponta uma demanda crescente para trabalhadores com conhecimento em tecnologia, refletindo um mercado ainda pouco preparado para a revolução digital em curso.\n\n    ### Análise do Mercado de IA no Brasil:\n    Os benefícios da implementação da IA incluem a automação de processos, melhor tomada de decisões e diagnósticos avançados. Contudo, as organizações enfrentam desafios significativos, como a falta de infraestrutura e resistência à mudança. A escassez de talentos qualificados é um problema central, necessitando de parcerias entre empresas e instituições educacionais para desenvolver programas de formação que atendam às expectativas do mercado. Igor da Penha Natal, professor e pesquisador, sugere um investimento em treinamento e atualização contínua, enfatizando a importância de um esforço colaborativo entre empresas e instituições de ensino.\n\n    ### Recomendações:\n    \n    "
          },
          "metadata": {}
        },
        {
          "output_type": "display_data",
          "data": {
            "text/plain": [
              "<IPython.core.display.Markdown object>"
            ],
            "text/markdown": "\n    ## Relatório : No Brasil, 47% dos varejistas já utilizam IA, focando em marketing e ...\n\n    **URL da Fonte**: [https://exame.com/inteligencia-artificial/no-brasil-47-dos-varejistas-ja-utilizam-ia-focando-em-marketing-e-vendas/](https://exame.com/inteligencia-artificial/no-brasil-47-dos-varejistas-ja-utilizam-ia-focando-em-marketing-e-vendas/)\n\n    ### Introdução e Resumo:\n    A pesquisa \"Inteligência Artificial no Varejo\", realizada pela Central do Varejo entre abril e junho de 2024 com 307 varejistas brasileiros, revelou um cenário em evolução na adoção de tecnologias de IA no setor. Os dados indicam que 47% dos varejistas já utilizam IA em suas operações, enquanto a maioria dos não usuários está ao menos considerando sua adoção. As principais barreiras identificadas para a implementação de IA são a falta de conhecimento e infraestrutura, além de incertezas sobre o retorno de investimento.\n\n    ### Análise do Mercado de IA no Brasil:\n    Os prós da adoção de IA incluem um aumento significativo na eficiência operacional (84%) e reduções de custos (42%), com melhorias na satisfação do cliente (39%) e aumento nas vendas (36%) sendo também notados. No entanto, um terço dos varejistas relatam não observar resultados financeiros diretos e os investimentos em IA permanecem limitados, com 56% gastando até R$ 10 mil anuais. Por outro lado, 89% dos usuários da tecnologia expressam satisfação com seus resultados.\n\n    ### Recomendações:\n    \n    "
          },
          "metadata": {}
        },
        {
          "output_type": "display_data",
          "data": {
            "text/plain": [
              "<IPython.core.display.Markdown object>"
            ],
            "text/markdown": "\n    ## Relatório : IA: A tendência que virou necessidade do mercado brasileiro - Terra\n\n    **URL da Fonte**: [https://www.terra.com.br/byte/ia-a-tendencia-que-virou-necessidade-do-mercado-brasileiro,b23359dfefc7b7c30c8b15652739efacth8gzms2.html](https://www.terra.com.br/byte/ia-a-tendencia-que-virou-necessidade-do-mercado-brasileiro,b23359dfefc7b7c30c8b15652739efacth8gzms2.html)\n\n    ### Introdução e Resumo:\n    A pesquisa sobre o uso de Inteligência Artificial (IA) gerou uma série de insights sobre sua adoção no Brasil, evidenciando a crescente necessidade de integração dessa tecnologia em múltiplos setores, especialmente na comunicação corporativa. O uso de ferramentas como o ChatGPT tem se mostrado vital para aumentar a produtividade e eficiência das empresas, com 76% já incorporando a IA em suas operações e 58% utilizando-a especificamente em estratégias de comunicação.\n\n    ### Análise do Mercado de IA no Brasil:\n    Entre os prós dessa integração, destaca-se o aumento da produtividade, com 87% das empresas afirmando notar uma economia significativa de tempo. Outros benefícios incluem a criação de conteúdo e a análise de dados, que têm se tornado cada vez mais comuns. No entanto, a pesquisa também revelou contras, como a lacuna de conhecimento sobre a operação das IAs e a preocupação com a desinformação e precisão dos dados. Adicionalmente, 49% dos entrevistados expressaram preocupações éticas que precisam ser abordadas para garantir um uso responsável da tecnologia.\n\n    ### Recomendações:\n    \n    "
          },
          "metadata": {}
        },
        {
          "output_type": "display_data",
          "data": {
            "text/plain": [
              "<IPython.core.display.Markdown object>"
            ],
            "text/markdown": "\n    ## Relatório : Brasil domina mercado de startups em IA na América Latina\n\n    **URL da Fonte**: [https://www.poder360.com.br/poder-tech/brasil-domina-mercado-de-startups-em-ia-na-america-latina/](https://www.poder360.com.br/poder-tech/brasil-domina-mercado-de-startups-em-ia-na-america-latina/)\n\n    ### Introdução e Resumo:\n    As plataformas digitais, em sua essência, referem-se a um conjunto diversificado de serviços online que operam como intermediárias entre usuários e fornecedores, abrangendo redes sociais, comércio eletrônico, mecanismos de busca, entre outros. A regulação desse setor é essencial, considerando a variedade de serviços e modelos de negócios, que demandam uma abordagem regulatória assimétrica que adapte as responsabilidades conforme o risco que cada plataforma representa para o mercado e a sociedade.\n\n    ### Análise do Mercado de IA no Brasil:\n    Entre os prós, as plataformas digitais promovem inclusão, inovação e eficiência através da digitalização do trabalho e da oferta de serviços. No entanto, os contras incluem a potencial concentração econômica e a ameaça à concorrência, além do risco de abusos de poder econômico sobre usuários e trabalhadores. Essa dualidade ressalta a necessidade de uma regulação cuidadosa que impeça distorções de mercado e proteja direitos fundamentais.\n\n    ### Recomendações:\n    \n    "
          },
          "metadata": {}
        },
        {
          "output_type": "display_data",
          "data": {
            "text/plain": [
              "<IPython.core.display.Markdown object>"
            ],
            "text/markdown": "\n    ## Relatório : Mercado de trabalho 2025: o impacto da Inteligência Artificial no Brasil\n\n    **URL da Fonte**: [https://blog-prd.portalpos.com.br/mercado-de-trabalho-2025-o-impacto-da-inteligencia-artificial-no-brasil/](https://blog-prd.portalpos.com.br/mercado-de-trabalho-2025-o-impacto-da-inteligencia-artificial-no-brasil/)\n\n    ### Introdução e Resumo:\n    O mercado de Inteligência Artificial (IA) no Brasil, conforme relatado pela Robert Half, apresenta um panorama de transformação e crescimento. O estudo destaca que a adoção de tecnologias baseadas em IA nas empresas está em ascensão, influenciando o ambiente de trabalho e a estrutura salarial até 2025. Esse crescimento é impulsionado pela necessidade de otimização de processos, automação e melhoria da experiência do cliente. Com o aumento do uso de IA generativa, um número significativo de profissionais está incorporando essas ferramentas em suas rotinas diárias, o que sinaliza uma mudança de mentalidade no mercado.\n\n    ### Análise do Mercado de IA no Brasil:\n    Os benefícios da adoção da IA incluem redução de custos operacionais e maior eficiência, enquanto os desafios incluem a escassez de talentos qualificados nessa área. As empresas enfrentam dificuldades em preencher vagas, principalmente em tecnologia e inovação, o que registrou uma valorização salarial para profissionais que conseguem se destacar. Além disso, muitos trabalhadores estão dispostos a trocar de emprego em busca de melhores oportunidades, evidenciando a necessidade de estratégias eficazes de retenção de talentos e condições atrativas de trabalho.\n\n    ### Recomendações:\n    \n    "
          },
          "metadata": {}
        },
        {
          "output_type": "display_data",
          "data": {
            "text/plain": [
              "<IPython.core.display.Markdown object>"
            ],
            "text/markdown": "\n    ## Relatório : A aposta de empresas brasileiras na inteligência artificial ... - VEJA\n\n    **URL da Fonte**: [https://veja.abril.com.br/economia/a-aposta-de-empresas-brasileiras-na-inteligencia-artificial-para-melhorar-a-eficiencia](https://veja.abril.com.br/economia/a-aposta-de-empresas-brasileiras-na-inteligencia-artificial-para-melhorar-a-eficiencia)\n\n    ### Introdução e Resumo:\n    A pesquisa aborda o crescente mercado de Inteligência Artificial (IA) no Brasil, destacando a atuação da General Motors (GM) na implementação de uma tecnologia de IA desenvolvida em sua filial brasileira, que atua na detecção de defeitos dos veículos. Essa inovação não apenas melhora os processos internos, mas também será exportada para fábricas da GM nos Estados Unidos e Alemanha, realçando a capacidade nacional em contribuir para a supressão de erros humanos e aceleração da produção.\n\n    ### Análise do Mercado de IA no Brasil:\n    Os principais prós da GM incluem a inovação tecnológica, a redução de erros humanos e o fortalecimento da competitividade internacional através da exportação de suas soluções. Por outro lado, os contras envolvem os altos investimentos iniciais e a dependência de infraestrutura tecnológica adequada, o que pode dificultar a expansão em um cenário onde a energia renovável é cada vez mais demandada.\n\n    ### Recomendações:\n    \n    "
          },
          "metadata": {}
        }
      ]
    },
    {
      "cell_type": "markdown",
      "source": [
        "# EXA - Agentes de Busca por Inovação"
      ],
      "metadata": {
        "id": "d70A-YgYqEWP"
      }
    },
    {
      "cell_type": "code",
      "source": [
        "pip install exa_py"
      ],
      "metadata": {
        "id": "LGDBUclTvtFp"
      },
      "execution_count": null,
      "outputs": []
    },
    {
      "cell_type": "code",
      "execution_count": null,
      "metadata": {
        "colab": {
          "base_uri": "https://localhost:8080/"
        },
        "id": "KXod5c0cvdzL",
        "outputId": "c888a985-c7d6-49a9-8860-fd85cbaf7c22"
      },
      "outputs": [
        {
          "output_type": "stream",
          "name": "stdout",
          "text": [
            "['__annotations__', '__class__', '__class_getitem__', '__dataclass_fields__', '__dataclass_params__', '__delattr__', '__dict__', '__dir__', '__doc__', '__eq__', '__format__', '__ge__', '__getattribute__', '__getstate__', '__gt__', '__hash__', '__init__', '__init_subclass__', '__le__', '__lt__', '__match_args__', '__module__', '__ne__', '__new__', '__orig_bases__', '__parameters__', '__reduce__', '__reduce_ex__', '__repr__', '__setattr__', '__sizeof__', '__slots__', '__str__', '__subclasshook__', '__weakref__', '_is_protocol', 'auto_date', 'autoprompt_string', 'cost_dollars', 'resolved_search_type', 'results']\n",
            "Title: Paper page - The Rise and Potential of Large Language Model Based Agents: A Survey\n",
            "URL: https://huggingface.co/papers/2309.07864\n",
            "ID: https://huggingface.co/papers/2309.07864\n",
            "Score: 0.40402060747146606\n",
            "Published Date: 2024-05-31T00:00:00.000Z\n",
            "Author: Zhiheng Xi ,\n",
            "Image: None\n",
            "Favicon: None\n",
            "Extras: None\n",
            "Subpages: None\n",
            "Text: None\n",
            "Highlights: None\n",
            "Highlight Scores: None\n",
            "Summary: None\n",
            "\n",
            "\n",
            "Title: Paper page - AgentOhana: Design Unified Data and Training Pipeline for Effective\n",
            "  Agent Learning\n",
            "URL: https://huggingface.co/papers/2402.15506\n",
            "ID: https://huggingface.co/papers/2402.15506\n",
            "Score: 0.40283071994781494\n",
            "Published Date: 2024-02-27T00:00:00.000Z\n",
            "Author: Jianguo Zhang ,\n",
            "Image: None\n",
            "Favicon: None\n",
            "Extras: None\n",
            "Subpages: None\n",
            "Text: None\n",
            "Highlights: None\n",
            "Highlight Scores: None\n",
            "Summary: None\n",
            "\n",
            "\n",
            "Title: Professional Agents -- Evolving Large Language Models into Autonomous Experts with Human-Level Competencies\n",
            "URL: https://arxiv.org/abs/2402.03628\n",
            "ID: https://arxiv.org/abs/2402.03628\n",
            "Score: 0.401419997215271\n",
            "Published Date: 2024-02-06T00:00:00.000Z\n",
            "Author: Chu; Zhixuan; Wang; Yan; Zhu; Feng; Yu; Lu; Li; Longfei; Gu; Jinjie\n",
            "Image: None\n",
            "Favicon: None\n",
            "Extras: None\n",
            "Subpages: None\n",
            "Text: None\n",
            "Highlights: None\n",
            "Highlight Scores: None\n",
            "Summary: None\n",
            "\n",
            "\n",
            "Title: AgentTuning: Enabling Generalized Agent Abilities for LLMs\n",
            "URL: https://arxiv.org/abs/2310.12823\n",
            "ID: https://arxiv.org/abs/2310.12823\n",
            "Score: 0.39791542291641235\n",
            "Published Date: 2023-12-04T00:00:00.000Z\n",
            "Author: Zeng; Aohan; Liu; Mingdao; Lu; Rui; Wang; Bowen; Xiao; Dong; Yuxiao; Tang; Jie\n",
            "Image: None\n",
            "Favicon: None\n",
            "Extras: None\n",
            "Subpages: None\n",
            "Text: None\n",
            "Highlights: None\n",
            "Highlight Scores: None\n",
            "Summary: None\n",
            "\n",
            "\n",
            "Title: Agent-FLAN: Designing Data and Methods of Effective Agent Tuning for Large Language Models\n",
            "URL: https://arxiv.org/abs/2403.12881v1\n",
            "ID: https://arxiv.org/abs/2403.12881v1\n",
            "Score: 0.39788663387298584\n",
            "Published Date: 2024-03-19T00:00:00.000Z\n",
            "Author: Chen; Zehui; Liu; Kuikun; Wang; Qiuchen; Zhang; Wenwei; Jiangning; Lin; Dahua; Kai; Zhao; Feng\n",
            "Image: None\n",
            "Favicon: None\n",
            "Extras: None\n",
            "Subpages: None\n",
            "Text: None\n",
            "Highlights: None\n",
            "Highlight Scores: None\n",
            "Summary: None\n",
            "\n",
            "\n",
            "Title: Agent Q: Advanced Reasoning and Learning for Autonomous AI Agents\n",
            "URL: https://arxiv.org/abs/2408.07199\n",
            "ID: https://arxiv.org/abs/2408.07199\n",
            "Score: 0.3966537117958069\n",
            "Published Date: 2024-08-13T00:00:00.000Z\n",
            "Author: Putta; Pranav; Mills; Edmund; Garg; Naman; Motwani; Sumeet; Finn; Chelsea; Divyansh; Rafailov; Rafael\n",
            "Image: None\n",
            "Favicon: None\n",
            "Extras: None\n",
            "Subpages: None\n",
            "Text: None\n",
            "Highlights: None\n",
            "Highlight Scores: None\n",
            "Summary: None\n",
            "\n",
            "\n",
            "Title: Exploring Autonomous Agents through the Lens of Large Language Models: A Review\n",
            "URL: https://arxiv.org/abs/2404.04442\n",
            "ID: https://arxiv.org/abs/2404.04442\n",
            "Score: 0.3961019515991211\n",
            "Published Date: 2024-04-05T00:00:00.000Z\n",
            "Author: [Submitted on 5 Apr 2024]\n",
            "Image: None\n",
            "Favicon: None\n",
            "Extras: None\n",
            "Subpages: None\n",
            "Text: None\n",
            "Highlights: None\n",
            "Highlight Scores: None\n",
            "Summary: None\n",
            "\n",
            "\n",
            "Title: \n",
            "URL: https://arxiv.org/pdf/2501.14304?\n",
            "ID: https://arxiv.org/pdf/2501.14304?\n",
            "Score: 0.3939039409160614\n",
            "Published Date: None\n",
            "Author: None\n",
            "Image: None\n",
            "Favicon: None\n",
            "Extras: None\n",
            "Subpages: None\n",
            "Text: None\n",
            "Highlights: None\n",
            "Highlight Scores: None\n",
            "Summary: None\n",
            "\n",
            "\n",
            "Title: Exploring Autonomous Agents through the Lens of Large Language Models: A Review | AI Research Paper Details\n",
            "URL: https://www.aimodels.fyi/papers/arxiv/exploring-autonomous-agents-through-lens-large-language\n",
            "ID: https://www.aimodels.fyi/papers/arxiv/exploring-autonomous-agents-through-lens-large-language\n",
            "Score: 0.3936723470687866\n",
            "Published Date: 2024-04-12T00:00:00.000Z\n",
            "Author: None\n",
            "Image: None\n",
            "Favicon: None\n",
            "Extras: None\n",
            "Subpages: None\n",
            "Text: None\n",
            "Highlights: None\n",
            "Highlight Scores: None\n",
            "Summary: None\n",
            "\n",
            "\n",
            "Title: \n",
            "URL: https://arxiv.org/pdf/2403.03031\n",
            "ID: https://arxiv.org/pdf/2403.03031\n",
            "Score: 0.3914526402950287\n",
            "Published Date: None\n",
            "Author: None\n",
            "Image: None\n",
            "Favicon: None\n",
            "Extras: None\n",
            "Subpages: None\n",
            "Text: None\n",
            "Highlights: None\n",
            "Highlight Scores: None\n",
            "Summary: None\n",
            "\n",
            "Resolved Search Type: neural\n",
            "CostDollars: total=0.005\n",
            "  - search: {'neural': 0.005}\n",
            "Título: Paper page - The Rise and Potential of Large Language Model Based Agents: A Survey\n",
            "Link: https://huggingface.co/papers/2309.07864\n",
            "\n",
            "\n",
            "Título: Paper page - AgentOhana: Design Unified Data and Training Pipeline for Effective\n",
            "  Agent Learning\n",
            "Link: https://huggingface.co/papers/2402.15506\n",
            "\n",
            "\n",
            "Título: Professional Agents -- Evolving Large Language Models into Autonomous Experts with Human-Level Competencies\n",
            "Link: https://arxiv.org/abs/2402.03628\n",
            "\n",
            "\n",
            "Título: AgentTuning: Enabling Generalized Agent Abilities for LLMs\n",
            "Link: https://arxiv.org/abs/2310.12823\n",
            "\n",
            "\n",
            "Título: Agent-FLAN: Designing Data and Methods of Effective Agent Tuning for Large Language Models\n",
            "Link: https://arxiv.org/abs/2403.12881v1\n",
            "\n",
            "\n",
            "Título: Agent Q: Advanced Reasoning and Learning for Autonomous AI Agents\n",
            "Link: https://arxiv.org/abs/2408.07199\n",
            "\n",
            "\n",
            "Título: Exploring Autonomous Agents through the Lens of Large Language Models: A Review\n",
            "Link: https://arxiv.org/abs/2404.04442\n",
            "\n",
            "\n",
            "Título: \n",
            "Link: https://arxiv.org/pdf/2501.14304?\n",
            "\n",
            "\n",
            "Título: Exploring Autonomous Agents through the Lens of Large Language Models: A Review | AI Research Paper Details\n",
            "Link: https://www.aimodels.fyi/papers/arxiv/exploring-autonomous-agents-through-lens-large-language\n",
            "\n",
            "\n",
            "Título: \n",
            "Link: https://arxiv.org/pdf/2403.03031\n",
            "\n",
            "\n"
          ]
        }
      ],
      "source": [
        "from exa_py import Exa\n",
        "\n",
        "# Inicializar Exa com sua chave de API\n",
        "exa = Exa(\"80e5946b-bee5-4f5c-9c5d-8e6aebb09b10\")\n",
        "\n",
        "# Realizar a busca\n",
        "results = exa.search(\n",
        "    \"Agentes de IA com LLM \",\n",
        "    category=\"papers\" #\n",
        ")\n",
        "\n",
        "# Usar dir() para ver atributos e métodos disponíveis\n",
        "print(dir(results))\n",
        "\n",
        "# Imprimir o objeto para ver a representação\n",
        "print(results)\n",
        "\n",
        "# Acessar um possível atributo que pode conter os resultados\n",
        "if hasattr(results, 'results'):\n",
        "    for result in results.results:\n",
        "        print(\"Título:\", result.title)\n",
        "        print(\"Link:\", result.url)\n",
        "        print(\"\\n\")\n"
      ]
    },
    {
      "cell_type": "code",
      "source": [
        "# Exibir resultados da busca\n",
        "for result in results.results:\n",
        "    print(\"Título:\", result.title)\n",
        "    print(\"Link:\", result.url)\n",
        "    print(\"ID:\", result.id)\n",
        "    print(\"Score:\", result.score)\n",
        "    print(\"Data de Publicação:\", result.published_date)\n",
        "    print(\"Autor:\", result.author)\n",
        "    print(\"\\n\")\n"
      ],
      "metadata": {
        "colab": {
          "base_uri": "https://localhost:8080/"
        },
        "id": "TxwzEynNxlMf",
        "outputId": "4ac76faa-f2aa-491d-a1f3-7cbbac6da29c"
      },
      "execution_count": null,
      "outputs": [
        {
          "output_type": "stream",
          "name": "stdout",
          "text": [
            "Título: LLM as OS (llmao), Agents as Apps: Envisioning AIOS, Agents and the AIOS-Agent Ecosystem\n",
            "Link: https://arxiv.org/abs/2312.03815\n",
            "ID: https://arxiv.org/abs/2312.03815\n",
            "Score: 0.2118871510028839\n",
            "Data de Publicação: 2023-12-06T00:00:00.000Z\n",
            "Autor: Ge; Yingqiang; Ren; Yujie; Hua; Wenyue; Xu; Shuyuan; Tan; Juntao; Zhang; Yongfeng\n",
            "\n",
            "\n",
            "Título: Large Language Models as Minecraft Agents\n",
            "Link: https://arxiv.org/abs/2402.08392\n",
            "ID: https://arxiv.org/abs/2402.08392\n",
            "Score: 0.20834088325500488\n",
            "Data de Publicação: 2024-02-13T00:00:00.000Z\n",
            "Autor: Madge; Chris; Poesio; Massimo\n",
            "\n",
            "\n",
            "Título: Agent Instructs Large Language Models to be General Zero-Shot Reasoners\n",
            "Link: https://arxiv.org/abs/2310.03710\n",
            "ID: https://arxiv.org/abs/2310.03710\n",
            "Score: 0.2076638638973236\n",
            "Data de Publicação: 2023-10-05T00:00:00.000Z\n",
            "Autor: Crispino; Nicholas; Montgomery; Kyle; Zeng; Fankun; Song; Dawn; Wang; Chenguang\n",
            "\n",
            "\n",
            "Título: Large Language Models Are Neurosymbolic Reasoners\n",
            "Link: https://arxiv.org/abs/2401.09334\n",
            "ID: https://arxiv.org/abs/2401.09334\n",
            "Score: 0.20614458620548248\n",
            "Data de Publicação: 2024-01-17T00:00:00.000Z\n",
            "Autor: Fang; Meng; Deng; Shilong; Zhang; Yudi; Shi; Zijing; Chen; Ling; Pechenizkiy; Mykola; Wang; Jun\n",
            "\n",
            "\n",
            "Título: LLM-Powered Hierarchical Language Agent for Real-time Human-AI Coordination\n",
            "Link: http://arxiv.org/abs/2312.15224\n",
            "ID: http://arxiv.org/abs/2312.15224\n",
            "Score: 0.20532609522342682\n",
            "Data de Publicação: 2023-12-23T00:00:00.000Z\n",
            "Autor: Liu; Jijia; Yu; Chao; Gao; Jiaxuan; Xie; Liao; Qingmin; Wu; Yi; Wang\n",
            "\n",
            "\n",
            "Título: Assistive Large Language Model Agents for Socially-Aware Negotiation Dialogues\n",
            "Link: https://arxiv.org/abs/2402.01737\n",
            "ID: https://arxiv.org/abs/2402.01737\n",
            "Score: 0.2047949880361557\n",
            "Data de Publicação: 2024-01-29T00:00:00.000Z\n",
            "Autor: Hua; Yuncheng; Qu; Lizhen; Haffari; Gholamreza\n",
            "\n",
            "\n",
            "Título: Can LLM-Augmented autonomous agents cooperate?, An evaluation of their cooperative capabilities through Melting Pot\n",
            "Link: https://arxiv.org/abs/2403.11381\n",
            "ID: https://arxiv.org/abs/2403.11381\n",
            "Score: 0.20331400632858276\n",
            "Data de Publicação: 2024-03-18T00:00:00.000Z\n",
            "Autor: Mosquera; Manuel; Pinzon; Juan Sebastian; Rios; Fonseca; Yesid; Giraldo; Luis Felipe; Quijano; Nicanor; Manrique; Ruben\n",
            "\n",
            "\n",
            "Título: Open Models, Closed Minds? On Agents Capabilities in Mimicking Human Personalities through Open Large Language Models\n",
            "Link: http://arxiv.org/abs/2401.07115\n",
            "ID: http://arxiv.org/abs/2401.07115\n",
            "Score: 0.20153722167015076\n",
            "Data de Publicação: 2024-01-13T00:00:00.000Z\n",
            "Autor: La Cava; Lucio; Costa; Davide; Tagarelli; Andrea\n",
            "\n",
            "\n",
            "Título: Personal LLM Agents: Insights and Survey about the Capability, Efficiency and Security\n",
            "Link: http://arxiv.org/abs/2401.05459\n",
            "ID: http://arxiv.org/abs/2401.05459\n",
            "Score: 0.20081135630607605\n",
            "Data de Publicação: 2024-01-10T00:00:00.000Z\n",
            "Autor: Li; Yuanchun; Wen; Hao; Wang; Weijun; Xiangyu; Yuan; Yizhen; Guohong; Jiacheng; Xu; Xiang; Sun; Yi; Kong; Rui; Geng; Hanfei; Luan; Jian; Jin; Ye; Zilong; Xiong; Guanjing; Zhang; Fan; Mengwei; Zhijun; Peng; Yang; Ya-Qin; Yunxin\n",
            "\n",
            "\n",
            "Título: Large Language Model based Multi-Agents: A Survey of Progress and Challenges\n",
            "Link: https://arxiv.org/abs/2402.01680\n",
            "ID: https://arxiv.org/abs/2402.01680\n",
            "Score: 0.20080433785915375\n",
            "Data de Publicação: 2024-01-21T00:00:00.000Z\n",
            "Autor: Guo; Taicheng; Chen; Xiuying; Wang; Yaqi; Chang; Ruidi; Pei; Shichao; Chawla; Nitesh V; Wiest; Olaf; Zhang; Xiangliang\n",
            "\n",
            "\n"
          ]
        }
      ]
    },
    {
      "cell_type": "code",
      "source": [
        "from exa_py import Exa\n",
        "\n",
        "# Inicializar Exa com a chave da API\n",
        "exa = Exa(api_key=\"80e5946b-bee5-4f5c-9c5d-8e6aebb09b10\")\n",
        "\n",
        "# Realizar a busca\n",
        "result = exa.search_and_contents(\n",
        "    \"últimos desenvolvimentos Agents AI e LLM\",\n",
        "    type=\"neural\",\n",
        "    use_autoprompt=True,\n",
        "    num_results=20,\n",
        "    summary={\n",
        "        \"query\": \"SObre o que esse papper discorre?\"\n",
        "    },\n",
        "    category=\"research paper\", # research paper\n",
        "    exclude_domains=[\"en.wikipedia.org\"],\n",
        "    start_published_date=\"2025-01-01\"\n",
        ")\n",
        "\n",
        "# Exibir resultados da busca\n",
        "for paper in result.results:\n",
        "    print(\"Título:\", paper.title)\n",
        "    print(\"URL:\", paper.url)\n",
        "\n",
        "    # Usar dir() para verificar os atributos disponíveis\n",
        "    print(dir(paper))  # Verifique os atributos e métodos disponíveis\n",
        "\n",
        "    # Acessar o atributo correto para a data de publicação\n",
        "    print(\"Data de Publicação:\", paper.published_date)  # Tente com 'published_date' ou outro nome\n",
        "\n",
        "    print(\"Autor:\", paper.author)\n",
        "    print(\"Resumo:\", paper.summary)\n",
        "    print(\"\\n\" + \"-\"*80 + \"\\n\")  # Linha separadora para melhor legibilidade\n"
      ],
      "metadata": {
        "colab": {
          "base_uri": "https://localhost:8080/"
        },
        "id": "LZ_Fobw9zWOc",
        "outputId": "37ccf120-c1a7-48c7-8611-9e3751ad999f"
      },
      "execution_count": null,
      "outputs": [
        {
          "output_type": "stream",
          "name": "stdout",
          "text": [
            "Título: Agentic Reasoning: Reasoning LLMs with Tools for the Deep Research\n",
            "URL: https://arxiv.org/html/2502.04644v1\n",
            "['__annotations__', '__class__', '__dataclass_fields__', '__dataclass_params__', '__delattr__', '__dict__', '__dir__', '__doc__', '__eq__', '__format__', '__ge__', '__getattribute__', '__getstate__', '__gt__', '__hash__', '__init__', '__init_subclass__', '__le__', '__lt__', '__match_args__', '__module__', '__ne__', '__new__', '__reduce__', '__reduce_ex__', '__repr__', '__setattr__', '__sizeof__', '__str__', '__subclasshook__', '__weakref__', 'author', 'extras', 'favicon', 'highlight_scores', 'highlights', 'id', 'image', 'published_date', 'score', 'subpages', 'summary', 'text', 'title', 'url']\n",
            "Data de Publicação: 2025-01-01T00:00:00.000Z\n",
            "Autor: Junde Wu, Jiayuan Zhu, Yuyuan Liu University of Oxford\n",
            "Resumo: Este artigo técnico apresenta o \"Raciocínio Agêntico\", uma estrutura que melhora o raciocínio de modelos de linguagem grandes (LLMs) integrando agentes externos que utilizam ferramentas.  Ao contrário dos métodos convencionais, que dependem apenas de inferência interna, o Raciocínio Agêntico usa busca na web, execução de código e memória de contexto de raciocínio estruturado para resolver problemas complexos que exigem pesquisa profunda e dedução lógica em múltiplas etapas.  O sistema inclui um agente \"Mapa Mental\" que constrói um grafo de conhecimento estruturado para rastrear relações lógicas, melhorando o raciocínio dedutivo.  Experimentos em tarefas de raciocínio científico em nível de doutorado e em tarefas de pesquisa profunda específicas de domínio mostram que supera modelos existentes, incluindo sistemas RAG e LLMs de código fechado.  O código está disponível no GitHub.\n",
            "\n",
            "\n",
            "--------------------------------------------------------------------------------\n",
            "\n",
            "Título: Position: Towards a Responsible LLM-empowered Multi-Agent Systems\n",
            "URL: https://arxiv.org/html/2502.01714v1\n",
            "['__annotations__', '__class__', '__dataclass_fields__', '__dataclass_params__', '__delattr__', '__dict__', '__dir__', '__doc__', '__eq__', '__format__', '__ge__', '__getattribute__', '__getstate__', '__gt__', '__hash__', '__init__', '__init_subclass__', '__le__', '__lt__', '__match_args__', '__module__', '__ne__', '__new__', '__reduce__', '__reduce_ex__', '__repr__', '__setattr__', '__sizeof__', '__str__', '__subclasshook__', '__weakref__', 'author', 'extras', 'favicon', 'highlight_scores', 'highlights', 'id', 'image', 'published_date', 'score', 'subpages', 'summary', 'text', 'title', 'url']\n",
            "Data de Publicação: 2025-12-11T00:00:00.000Z\n",
            "Autor: Jinwei Hu\n",
            "Resumo: Este artigo discute os desafios e oportunidades de sistemas multi-agentes impulsionados por modelos de linguagem amplos (LLM-MAS).  A integração de LLMs em MAS, facilitada por ferramentas como LangChain e RAG, aumenta significativamente a capacidade de tomada de decisão, mas também introduz incertezas e comportamentos imprevisíveis.  O artigo enfatiza a necessidade de uma abordagem de design centrada no humano com moderação dinâmica ativa para garantir a operação responsável e confiável desses sistemas, abordando a comunicação inter-agente e a governança do sistema para mitigar os riscos associados à imprevisibilidade dos agentes LLM.\n",
            "\n",
            "\n",
            "--------------------------------------------------------------------------------\n",
            "\n",
            "Título: Lifelong Learning of Large Language Model based Agents: A Roadmap\n",
            "URL: https://arxiv.org/html/2501.07278v1\n",
            "['__annotations__', '__class__', '__dataclass_fields__', '__dataclass_params__', '__delattr__', '__dict__', '__dir__', '__doc__', '__eq__', '__format__', '__ge__', '__getattribute__', '__getstate__', '__gt__', '__hash__', '__init__', '__init_subclass__', '__le__', '__lt__', '__match_args__', '__module__', '__ne__', '__new__', '__reduce__', '__reduce_ex__', '__repr__', '__setattr__', '__sizeof__', '__str__', '__subclasshook__', '__weakref__', 'author', 'extras', 'favicon', 'highlight_scores', 'highlights', 'id', 'image', 'published_date', 'score', 'subpages', 'summary', 'text', 'title', 'url']\n",
            "Data de Publicação: 2025-01-13T00:00:00.000Z\n",
            "Autor: \n",
            "Resumo: Este artigo discorre sobre a aprendizagem contínua (lifelong learning) em agentes baseados em grandes modelos de linguagem (LLMs).  Ele argumenta que a capacidade de adaptação contínua é crucial para o desenvolvimento de uma Inteligência Artificial Geral (AGI). O artigo apresenta uma estrutura para agentes com aprendizagem contínua, dividindo-a em três módulos: percepção (integração de entradas multimodais), memória (armazenamento e recuperação de conhecimento) e ação (interação com o ambiente).  O foco é em como esses módulos permitem adaptação contínua, mitigam o esquecimento catastrófico e melhoram o desempenho a longo prazo.  Finalmente, o artigo oferece um roteiro para pesquisadores e praticantes que trabalham no desenvolvimento de capacidades de aprendizagem contínua em agentes LLM.\n",
            "\n",
            "\n",
            "--------------------------------------------------------------------------------\n",
            "\n",
            "Título: (PDF) Multi-Agent Collaboration Mechanisms: A Survey of LLMs\n",
            "URL: https://www.researchgate.net/publication/387975271_Multi-Agent_Collaboration_Mechanisms_A_Survey_of_LLMs\n",
            "['__annotations__', '__class__', '__dataclass_fields__', '__dataclass_params__', '__delattr__', '__dict__', '__dir__', '__doc__', '__eq__', '__format__', '__ge__', '__getattribute__', '__getstate__', '__gt__', '__hash__', '__init__', '__init_subclass__', '__le__', '__lt__', '__match_args__', '__module__', '__ne__', '__new__', '__reduce__', '__reduce_ex__', '__repr__', '__setattr__', '__sizeof__', '__str__', '__subclasshook__', '__weakref__', 'author', 'extras', 'favicon', 'highlight_scores', 'highlights', 'id', 'image', 'published_date', 'score', 'subpages', 'summary', 'text', 'title', 'url']\n",
            "Data de Publicação: 2025-01-10T00:00:00.000Z\n",
            "Autor: \n",
            "Resumo: Este artigo revisa os mecanismos de colaboração em sistemas multi-agentes baseados em modelos de linguagem de grande porte (LLMs).  Ele apresenta um framework para caracterizar esses mecanismos considerando os atores envolvidos, os tipos de colaboração (cooperação, competição, coopetição), as estruturas (peer-to-peer, centralizada, distribuída), as estratégias (baseadas em papéis ou modelos) e os protocolos de coordenação.  O estudo investiga aplicações em diversas áreas, como redes 5G/6G, Indústria 5.0, sistemas de perguntas e respostas e contextos sociais e culturais, e identifica desafios e direções futuras de pesquisa em inteligência coletiva artificial.\n",
            "\n",
            "\n",
            "--------------------------------------------------------------------------------\n",
            "\n",
            "Título: Agent-Centric Projection of Prompting Techniques and Implications for Synthetic Training Data for Large Language Models\n",
            "URL: https://arxiv.org/html/2501.07815v1\n",
            "['__annotations__', '__class__', '__dataclass_fields__', '__dataclass_params__', '__delattr__', '__dict__', '__dir__', '__doc__', '__eq__', '__format__', '__ge__', '__getattribute__', '__getstate__', '__gt__', '__hash__', '__init__', '__init_subclass__', '__le__', '__lt__', '__match_args__', '__module__', '__ne__', '__new__', '__reduce__', '__reduce_ex__', '__repr__', '__setattr__', '__sizeof__', '__str__', '__subclasshook__', '__weakref__', 'author', 'extras', 'favicon', 'highlight_scores', 'highlights', 'id', 'image', 'published_date', 'score', 'subpages', 'summary', 'text', 'title', 'url']\n",
            "Data de Publicação: 2025-01-01T00:00:00.000Z\n",
            "Autor: https://orcid.org/0009-0003-8226-7621 https://orcid.org/0000-0002-4150-0322\n",
            "Resumo: Este artigo apresenta uma estrutura para caracterizar e comparar técnicas de prompt em modelos de linguagem grandes (LLMs), focando na projeção agente-cêntrica.  A estrutura diferencia contextos lineares (sequência única de interações) de contextos não-lineares (ramificados).  Os autores propõem três conjecturas:  (1) resultados de prompts não-lineares podem prever resultados em sistemas multi-agente equivalentes; (2) arquiteturas de sistemas multi-agente podem ser replicadas por técnicas de prompt em um único LLM simulando padrões de interação equivalentes; e (3) essas equivalências sugerem novas abordagens para gerar dados de treinamento sintéticos.  O objetivo é promover a interação entre pesquisas em prompts e sistemas multi-agente para melhorar o design e treinamento de LLMs.\n",
            "\n",
            "\n",
            "--------------------------------------------------------------------------------\n",
            "\n",
            "Título: AIOS: LLM Agent Operating System\n",
            "URL: https://arxiv.org/html/2403.16971v2\n",
            "['__annotations__', '__class__', '__dataclass_fields__', '__dataclass_params__', '__delattr__', '__dict__', '__dir__', '__doc__', '__eq__', '__format__', '__ge__', '__getattribute__', '__getstate__', '__gt__', '__hash__', '__init__', '__init_subclass__', '__le__', '__lt__', '__match_args__', '__module__', '__ne__', '__new__', '__reduce__', '__reduce_ex__', '__repr__', '__setattr__', '__sizeof__', '__str__', '__subclasshook__', '__weakref__', 'author', 'extras', 'favicon', 'highlight_scores', 'highlights', 'id', 'image', 'published_date', 'score', 'subpages', 'summary', 'text', 'title', 'url']\n",
            "Data de Publicação: 2025-12-31T00:00:00.000Z\n",
            "Autor: \n",
            "Resumo: Este artigo apresenta o AIOS, um sistema operacional para agentes de modelos de linguagem amplos (LLMs).  O AIOS visa resolver os desafios de escalabilidade e eficiência na integração e implantação de agentes baseados em LLMs, focando na otimização da alocação de recursos, facilitação da troca de contexto entre agentes, execução concorrente de agentes, fornecimento de serviços de ferramentas para agentes e manutenção do controle de acesso para agentes.  Os autores argumentam que o AIOS representa um passo importante em direção à inteligência artificial geral (AGI) ao integrar LLMs diretamente no sistema operacional.  O projeto é de código aberto e está disponível no GitHub.\n",
            "\n",
            "\n",
            "--------------------------------------------------------------------------------\n",
            "\n",
            "Título: LLM Reasoner and Automated Planner: A new NPC approach\n",
            "URL: https://arxiv.org/html/2501.10106\n",
            "['__annotations__', '__class__', '__dataclass_fields__', '__dataclass_params__', '__delattr__', '__dict__', '__dir__', '__doc__', '__eq__', '__format__', '__ge__', '__getattribute__', '__getstate__', '__gt__', '__hash__', '__init__', '__init_subclass__', '__le__', '__lt__', '__match_args__', '__module__', '__ne__', '__new__', '__reduce__', '__reduce_ex__', '__repr__', '__setattr__', '__sizeof__', '__str__', '__subclasshook__', '__weakref__', 'author', 'extras', 'favicon', 'highlight_scores', 'highlights', 'id', 'image', 'published_date', 'score', 'subpages', 'summary', 'text', 'title', 'url']\n",
            "Data de Publicação: 2025-01-01T00:00:00.000Z\n",
            "Autor: \n",
            "Resumo: Este artigo apresenta uma nova arquitetura para agentes inteligentes, combinando modelos de linguagem grandes (LLMs) com planejadores automatizados clássicos.  O objetivo é criar NPCs (personagens não-jogáveis) capazes de tomar decisões contextualmente apropriadas em simulações, mesmo em cenários inesperados durante o design.  LLMs são usados para o raciocínio e tomada de decisão, fornecendo respostas plausíveis e semelhantes às humanas, enquanto o planejador garante planos de ação consistentes.  A abordagem busca equilibrar o raciocínio plausível dos LLMs com a confiabilidade dos planejadores, superando as limitações de abordagens tradicionais como árvores de comportamento.\n",
            "\n",
            "\n",
            "--------------------------------------------------------------------------------\n",
            "\n",
            "Título: Reasoning Language Models: A Blueprint\n",
            "URL: https://arxiv.org/html/2501.11223v2\n",
            "['__annotations__', '__class__', '__dataclass_fields__', '__dataclass_params__', '__delattr__', '__dict__', '__dir__', '__doc__', '__eq__', '__format__', '__ge__', '__getattribute__', '__getstate__', '__gt__', '__hash__', '__init__', '__init_subclass__', '__le__', '__lt__', '__match_args__', '__module__', '__ne__', '__new__', '__reduce__', '__reduce_ex__', '__repr__', '__setattr__', '__sizeof__', '__str__', '__subclasshook__', '__weakref__', 'author', 'extras', 'favicon', 'highlight_scores', 'highlights', 'id', 'image', 'published_date', 'score', 'subpages', 'summary', 'text', 'title', 'url']\n",
            "Data de Publicação: 2025-01-19T00:00:00.000Z\n",
            "Autor: \n",
            "Resumo: Este artigo apresenta um projeto abrangente para modelos de linguagem de raciocínio (RLMs), também conhecidos como modelos de raciocínio amplos (LRMs).  O projeto estrutura os componentes dos RLMs em um framework modular, baseado em uma análise de trabalhos existentes. Ele inclui diversas estruturas de raciocínio (cadeias, árvores, gráficos e formas aninhadas), estratégias de raciocínio (como busca em árvore Monte Carlo e busca em feixe), conceitos de aprendizado por reforço (modelos de política e valor), esquemas de supervisão e outros conceitos relacionados.  O objetivo é simplificar a implementação de RLMs, tornando-os mais acessíveis e escaláveis, e diminuindo a diferença entre \"IA rica\" e \"IA pobre\". O artigo também apresenta uma implementação modular, x1, para prototipagem rápida e experimentação, e discute implantações em nuvem escaláveis e integração com o ecossistema de LLMs mais amplo.\n",
            "\n",
            "\n",
            "--------------------------------------------------------------------------------\n",
            "\n",
            "Título: Chain of Agents: Large language models collaborating on long-context tasks\n",
            "URL: https://research.google/blog/chain-of-agents-large-language-models-collaborating-on-long-context-tasks/\n",
            "['__annotations__', '__class__', '__dataclass_fields__', '__dataclass_params__', '__delattr__', '__dict__', '__dir__', '__doc__', '__eq__', '__format__', '__ge__', '__getattribute__', '__getstate__', '__gt__', '__hash__', '__init__', '__init_subclass__', '__le__', '__lt__', '__match_args__', '__module__', '__ne__', '__new__', '__reduce__', '__reduce_ex__', '__repr__', '__setattr__', '__sizeof__', '__str__', '__subclasshook__', '__weakref__', 'author', 'extras', 'favicon', 'highlight_scores', 'highlights', 'id', 'image', 'published_date', 'score', 'subpages', 'summary', 'text', 'title', 'url']\n",
            "Data de Publicação: 2025-02-13T00:00:00.000Z\n",
            "Autor: \n",
            "Resumo: Este artigo apresenta Chain-of-Agents (CoA), uma nova estrutura que utiliza a colaboração entre múltiplos agentes por meio da linguagem natural para agregar informações e raciocinar sobre contextos longos em tarefas que exigem processamento de grandes quantidades de texto.  CoA supera as limitações de modelos de linguagem grandes (LLMs) em lidar com entradas longas,  abordando o problema de forma mais eficiente computacionalmente do que métodos baseados em extensão de janela ou redução de entrada.  O método é avaliado em tarefas como resposta a perguntas, sumarização e conclusão de código, demonstrando melhorias significativas em relação a abordagens tradicionais.\n",
            "\n",
            "\n",
            "--------------------------------------------------------------------------------\n",
            "\n",
            "Título: Stop treating `AGI' as the north-star goal of AI research\n",
            "URL: https://arxiv.org/pdf/2502.03689\n",
            "['__annotations__', '__class__', '__dataclass_fields__', '__dataclass_params__', '__delattr__', '__dict__', '__dir__', '__doc__', '__eq__', '__format__', '__ge__', '__getattribute__', '__getstate__', '__gt__', '__hash__', '__init__', '__init_subclass__', '__le__', '__lt__', '__match_args__', '__module__', '__ne__', '__new__', '__reduce__', '__reduce_ex__', '__repr__', '__setattr__', '__sizeof__', '__str__', '__subclasshook__', '__weakref__', 'author', 'extras', 'favicon', 'highlight_scores', 'highlights', 'id', 'image', 'published_date', 'score', 'subpages', 'summary', 'text', 'title', 'url']\n",
            "Data de Publicação: 2025-02-09T00:00:00.000Z\n",
            "Autor: Borhane Blili-Hamelin, Christopher Graziul, Leif Hancox-Li, Hananel Hazan, El-Mahdi El-Mhamdi, Avijit Ghosh, Katherine Heller, Jacob Metcalf, Fabricio Murai, Eryk Salvaggio, Andrew Smart, Todd Snider, Mariame Tighanimine, Talia Ringer, Margaret Mitchell, Shiri Dori-Hacohen\n",
            "Resumo: Este artigo argumenta que a busca pela \"inteligência artificial geral\" (AGI) como objetivo principal da pesquisa em IA é prejudicial.  Os autores identificam seis armadilhas criadas por essa busca: ilusão de consenso, superalimentação de má ciência, presunção de neutralidade de valor, loteria de objetivos, dívida de generalidade e exclusão normalizada.  Eles sugerem que a comunidade de pesquisa em IA deve priorizar objetivos específicos (de engenharia e sociais), abraçar o pluralismo em abordagens e objetivos, e promover a inovação por meio de maior inclusão.  Em resumo, o artigo defende que a comunidade de IA deve deixar de tratar a AGI como seu objetivo principal.\n",
            "\n",
            "\n",
            "--------------------------------------------------------------------------------\n",
            "\n",
            "Título: Kimi k1.5: Scaling Reinforcement Learning with LLMs\n",
            "URL: https://arxiv.org/abs//2501.12599\n",
            "['__annotations__', '__class__', '__dataclass_fields__', '__dataclass_params__', '__delattr__', '__dict__', '__dir__', '__doc__', '__eq__', '__format__', '__ge__', '__getattribute__', '__getstate__', '__gt__', '__hash__', '__init__', '__init_subclass__', '__le__', '__lt__', '__match_args__', '__module__', '__ne__', '__new__', '__reduce__', '__reduce_ex__', '__repr__', '__setattr__', '__sizeof__', '__str__', '__subclasshook__', '__weakref__', 'author', 'extras', 'favicon', 'highlight_scores', 'highlights', 'id', 'image', 'published_date', 'score', 'subpages', 'summary', 'text', 'title', 'url']\n",
            "Data de Publicação: 2025-01-22T00:00:00.000Z\n",
            "Autor: [Submitted on 22 Jan 2025]\n",
            "Resumo: Este artigo apresenta Kimi K1.5, um framework para escalonar o aprendizado por reforço (RL) usando modelos de linguagem grandes (LLMs).  O foco é em tornar o RL mais eficiente e escalável, permitindo o treinamento de agentes mais complexos e capazes. O artigo detalha a arquitetura e os métodos utilizados, sem especificar detalhes técnicos profundos na abstração apresentada.\n",
            "\n",
            "\n",
            "--------------------------------------------------------------------------------\n",
            "\n",
            "Título: Scaling Large Language Model-based Multi-Agent Collaboration\n",
            "URL: https://openreview.net/forum?id=K3n5jPkrU6\n",
            "['__annotations__', '__class__', '__dataclass_fields__', '__dataclass_params__', '__delattr__', '__dict__', '__dir__', '__doc__', '__eq__', '__format__', '__ge__', '__getattribute__', '__getstate__', '__gt__', '__hash__', '__init__', '__init_subclass__', '__le__', '__lt__', '__match_args__', '__module__', '__ne__', '__new__', '__reduce__', '__reduce_ex__', '__repr__', '__setattr__', '__sizeof__', '__str__', '__subclasshook__', '__weakref__', 'author', 'extras', 'favicon', 'highlight_scores', 'highlights', 'id', 'image', 'published_date', 'score', 'subpages', 'summary', 'text', 'title', 'url']\n",
            "Data de Publicação: 2025-01-22T00:00:00.000Z\n",
            "Autor: \n",
            "Resumo: Este artigo explora o impacto do aumento da escala de agentes de modelos de linguagem grandes (LLMs) na resolução de tarefas em colaboração multi-agente.  Os autores utilizam grafos acíclicos direcionados para organizar os agentes em uma rede de colaboração multi-agente (MacNet), onde o raciocínio interativo é orquestrado topologicamente para a resolução autônoma de tarefas.  A pesquisa descobriu que essa abordagem suporta efetivamente a colaboração entre mais de mil agentes, com topologias irregulares superando as regulares.  O estudo identifica também uma lei de escalabilidade colaborativa, onde o desempenho geral segue um padrão de crescimento logístico à medida que os agentes aumentam em escala, com a emergência colaborativa ocorrendo mais cedo do que a emergência neural tradicional.  Os autores especulam que isso pode ocorrer porque a escala dos agentes catalisa suas considerações multidimensionais durante a reflexão e o refinamento interativos, produzindo assim soluções mais abrangentes.\n",
            "\n",
            "\n",
            "--------------------------------------------------------------------------------\n",
            "\n",
            "Título: MarketSenseAI 2.0: Enhancing Stock Analysis through LLM Agents\n",
            "URL: https://arxiv.org/html/2502.00415v1\n",
            "['__annotations__', '__class__', '__dataclass_fields__', '__dataclass_params__', '__delattr__', '__dict__', '__dir__', '__doc__', '__eq__', '__format__', '__ge__', '__getattribute__', '__getstate__', '__gt__', '__hash__', '__init__', '__init_subclass__', '__le__', '__lt__', '__match_args__', '__module__', '__ne__', '__new__', '__reduce__', '__reduce_ex__', '__repr__', '__setattr__', '__sizeof__', '__str__', '__subclasshook__', '__weakref__', 'author', 'extras', 'favicon', 'highlight_scores', 'highlights', 'id', 'image', 'published_date', 'score', 'subpages', 'summary', 'text', 'title', 'url']\n",
            "Data de Publicação: 2025-01-05T00:00:00.000Z\n",
            "Autor: george@alpha-tensor.ai\n",
            "Resumo: Este artigo apresenta o MarketSenseAI 2.0, um framework para análise holística de ações que utiliza modelos de linguagem grandes (LLMs) para processar notícias financeiras, preços históricos, fundamentos da empresa e ambiente macroeconômico, auxiliando na tomada de decisões.  A nova versão melhora a precisão da análise fundamental em comparação com a versão anterior.  Avaliações empíricas em ações do S&P 100 entre 2023 e 2024 mostraram retornos cumulativos de 125,9% (contra 73,5% do índice), mantendo perfis de risco semelhantes.  Testes adicionais no S&P 500 em 2024 demonstraram escalabilidade, com um índice Sortino 33,8% maior que o mercado. O framework processa arquivos SEC e comunicados de ganhos, enriquecendo a análise macroeconômica por meio do processamento sistemático de diversos relatórios institucionais.  O artigo destaca um avanço significativo na aplicação da tecnologia LLM à análise financeira.\n",
            "\n",
            "\n",
            "--------------------------------------------------------------------------------\n",
            "\n",
            "Título: Improving LLM Reasoning with Multi-Agent Tree-of-Thought Validator Agent\n",
            "URL: https://arxiv.org/html/2409.11527v2\n",
            "['__annotations__', '__class__', '__dataclass_fields__', '__dataclass_params__', '__delattr__', '__dict__', '__dir__', '__doc__', '__eq__', '__format__', '__ge__', '__getattribute__', '__getstate__', '__gt__', '__hash__', '__init__', '__init_subclass__', '__le__', '__lt__', '__match_args__', '__module__', '__ne__', '__new__', '__reduce__', '__reduce_ex__', '__repr__', '__setattr__', '__sizeof__', '__str__', '__subclasshook__', '__weakref__', 'author', 'extras', 'favicon', 'highlight_scores', 'highlights', 'id', 'image', 'published_date', 'score', 'subpages', 'summary', 'text', 'title', 'url']\n",
            "Data de Publicação: 2025-12-31T00:00:00.000Z\n",
            "Autor: \n",
            "Resumo: Este artigo apresenta um novo método para melhorar o raciocínio de modelos de linguagem grandes (LLMs) combinando estratégias multi-agente com o método \"Tree of Thoughts\" (ToT).  O método utiliza múltiplos agentes \"Reasoner\" que exploram diferentes caminhos de raciocínio usando ToT, e um agente \"Thought Validator\" que verifica a validade desses caminhos, descartando os defeituosos.  Isso resulta em uma estratégia de votação mais robusta e melhora o desempenho em tarefas que exigem raciocínio sistemático e confiável.  Experimentos no conjunto de dados GSM8K mostraram que o método supera estratégias ToT padrão em 5.6% em média em quatro LLMs diferentes. O código está disponível no GitHub.\n",
            "\n",
            "\n",
            "--------------------------------------------------------------------------------\n",
            "\n",
            "Título: Self-Directing AI: The Road to Fully Autonomous AI Agents\n",
            "URL: https://www.computer.org/csdl/magazine/co/2025/02/10857847/23VCcPZMNlS\n",
            "['__annotations__', '__class__', '__dataclass_fields__', '__dataclass_params__', '__delattr__', '__dict__', '__dir__', '__doc__', '__eq__', '__format__', '__ge__', '__getattribute__', '__getstate__', '__gt__', '__hash__', '__init__', '__init_subclass__', '__le__', '__lt__', '__match_args__', '__module__', '__ne__', '__new__', '__reduce__', '__reduce_ex__', '__repr__', '__setattr__', '__sizeof__', '__str__', '__subclasshook__', '__weakref__', 'author', 'extras', 'favicon', 'highlight_scores', 'highlights', 'id', 'image', 'published_date', 'score', 'subpages', 'summary', 'text', 'title', 'url']\n",
            "Data de Publicação: 2025-02-01T00:00:00.000Z\n",
            "Autor: Singidunum University, Belgrade, Serbia\n",
            "Resumo: Este artigo discute os desafios dos modelos de linguagem grandes (LLMs) e apresenta os agentes de IA como uma alternativa ou complemento.  Os LLMs, apesar de seu sucesso, sofrem de limitações como alta demanda computacional,  \"alucinações\" (geração de informações falsas), problemas de privacidade e segurança, falta de transparência, compreensão limitada do mundo real e dependência de prompts.  Para superar essas limitações, o artigo propõe o uso de agentes de IA, sistemas menores e específicos para domínios, capazes de operar de forma autônoma ou semi-autônoma, interagindo com o ambiente e utilizando ferramentas para alcançar seus objetivos.\n",
            "\n",
            "\n",
            "--------------------------------------------------------------------------------\n",
            "\n",
            "Título: (PDF) MarketSenseAI 2.0: Enhancing Stock Analysis through LLM Agents\n",
            "URL: https://www.researchgate.net/publication/388658314_MarketSenseAI_20_Enhancing_Stock_Analysis_through_LLM_Agents\n",
            "['__annotations__', '__class__', '__dataclass_fields__', '__dataclass_params__', '__delattr__', '__dict__', '__dir__', '__doc__', '__eq__', '__format__', '__ge__', '__getattribute__', '__getstate__', '__gt__', '__hash__', '__init__', '__init_subclass__', '__le__', '__lt__', '__match_args__', '__module__', '__ne__', '__new__', '__reduce__', '__reduce_ex__', '__repr__', '__setattr__', '__sizeof__', '__str__', '__subclasshook__', '__weakref__', 'author', 'extras', 'favicon', 'highlight_scores', 'highlights', 'id', 'image', 'published_date', 'score', 'subpages', 'summary', 'text', 'title', 'url']\n",
            "Data de Publicação: 2025-02-01T00:00:00.000Z\n",
            "Autor: Authors:\n",
            "Resumo: Este artigo apresenta o MarketSenseAI 2.0, uma estrutura para análise holística de ações que utiliza modelos de linguagem grandes (LLMs) para processar notícias financeiras, preços históricos, fundamentos da empresa e o ambiente macroeconômico.  A versão 2.0 melhora a precisão da análise fundamental em comparação com a versão anterior, processando relatórios da SEC, comunicados de resultados e relatórios institucionais diversos.  Avaliações empíricas em ações do S&P 100 (2023-2024) mostraram retornos cumulativos de 125,9% (vs 73,5% do índice) e, no S&P 500 (2024), uma proporção de Sortino 33,8% maior que a do mercado.  O estudo destaca o avanço no uso de LLMs na análise financeira e na robustez das estratégias de investimento baseadas em LLMs.\n",
            "\n",
            "\n",
            "--------------------------------------------------------------------------------\n",
            "\n",
            "Título: Urban Generative Intelligence (UGI): A Foundational Platform for Agents in Embodied City Environment\n",
            "URL: https://arxiv.org/html/2312.11813v1\n",
            "['__annotations__', '__class__', '__dataclass_fields__', '__dataclass_params__', '__delattr__', '__dict__', '__dir__', '__doc__', '__eq__', '__format__', '__ge__', '__getattribute__', '__getstate__', '__gt__', '__hash__', '__init__', '__init_subclass__', '__le__', '__lt__', '__match_args__', '__module__', '__ne__', '__new__', '__reduce__', '__reduce_ex__', '__repr__', '__setattr__', '__sizeof__', '__str__', '__subclasshook__', '__weakref__', 'author', 'extras', 'favicon', 'highlight_scores', 'highlights', 'id', 'image', 'published_date', 'score', 'subpages', 'summary', 'text', 'title', 'url']\n",
            "Data de Publicação: 2025-01-25T00:00:00.000Z\n",
            "Autor: The first three authors contribute to this work equally.\n",
            "Resumo: Este artigo apresenta o Urban Generative Intelligence (UGI), uma plataforma que integra modelos de linguagem grandes (LLMs) em sistemas urbanos para criar uma nova forma de inteligência urbana.  O UGI usa o CityGPT, um modelo fundamental treinado em dados multi-fonte específicos da cidade, para criar agentes incorporados para diversas tarefas urbanas. Esses agentes, operando em um ambiente urbano textual simulado por um simulador de cidade e um grafo de conhecimento urbano, interagem por meio de uma interface de linguagem natural. A plataforma visa abordar problemas urbanos específicos, simular sistemas urbanos complexos e fornecer uma abordagem multidisciplinar para entender e gerenciar a complexidade urbana.  O artigo destaca a necessidade de soluções tecnológicas avançadas para lidar com os desafios da urbanização rápida, como congestionamento de tráfego, poluição e desigualdade social.\n",
            "\n",
            "\n",
            "--------------------------------------------------------------------------------\n",
            "\n",
            "Título: Advancing Reasoning in Large Language Models: Promising Methods and Approaches\n",
            "URL: https://arxiv.org/html/2502.03671v1\n",
            "['__annotations__', '__class__', '__dataclass_fields__', '__dataclass_params__', '__delattr__', '__dict__', '__dir__', '__doc__', '__eq__', '__format__', '__ge__', '__getattribute__', '__getstate__', '__gt__', '__hash__', '__init__', '__init_subclass__', '__le__', '__lt__', '__match_args__', '__module__', '__ne__', '__new__', '__reduce__', '__reduce_ex__', '__repr__', '__setattr__', '__sizeof__', '__str__', '__subclasshook__', '__weakref__', 'author', 'extras', 'favicon', 'highlight_scores', 'highlights', 'id', 'image', 'published_date', 'score', 'subpages', 'summary', 'text', 'title', 'url']\n",
            "Data de Publicação: 2025-01-01T00:00:00.000Z\n",
            "Autor: Avinash Patil avinashpatil@ieee.org ORCID: 0009-0002-6004-370X\n",
            "Resumo: Este artigo revisa métodos para melhorar a capacidade de raciocínio em grandes modelos de linguagem (LLMs).  Ele categoriza os métodos existentes em três abordagens principais: estratégias de prompt (como raciocínio Chain-of-Thought, Self-Consistency e Tree-of-Thought), inovações arquitetônicas (modelos aumentados por recuperação, redes de raciocínio modulares e integração neuro-simbólica) e paradigmas de aprendizado (ajuste fino com conjuntos de dados específicos de raciocínio, aprendizado por reforço e objetivos de raciocínio auto-supervisionados). O artigo também discute as dificuldades atuais, como alucinações e generalização de raciocínio, e apresenta o DeepSeek-R1 como exemplo de LLM com capacidades avançadas de raciocínio em matemática e programação.\n",
            "\n",
            "\n",
            "--------------------------------------------------------------------------------\n",
            "\n",
            "Título: Efficient Large Language Models: A Survey\n",
            "URL: https://arxiv.org/html/2312.03863v4\n",
            "['__annotations__', '__class__', '__dataclass_fields__', '__dataclass_params__', '__delattr__', '__dict__', '__dir__', '__doc__', '__eq__', '__format__', '__ge__', '__getattribute__', '__getstate__', '__gt__', '__hash__', '__init__', '__init_subclass__', '__le__', '__lt__', '__match_args__', '__module__', '__ne__', '__new__', '__reduce__', '__reduce_ex__', '__repr__', '__setattr__', '__sizeof__', '__str__', '__subclasshook__', '__weakref__', 'author', 'extras', 'favicon', 'highlight_scores', 'highlights', 'id', 'image', 'published_date', 'score', 'subpages', 'summary', 'text', 'title', 'url']\n",
            "Data de Publicação: 2025-03-15T00:00:00.000Z\n",
            "Autor: \n",
            "Resumo: Este artigo aborda o tema de modelos de linguagem grandes (LLMs) eficientes.  Ele discute a necessidade de técnicas eficazes para reduzir os recursos computacionais exigidos pelos LLMs, considerando seu potencial impacto na sociedade, apesar do alto custo computacional associado à sua capacidade de processamento de linguagem natural.\n",
            "\n",
            "\n",
            "--------------------------------------------------------------------------------\n",
            "\n",
            "Título: Agentic AI Systems Applied to tasks in Financial Services: Modeling and model risk management crews\n",
            "URL: https://arxiv.org/html/2502.05439v1\n",
            "['__annotations__', '__class__', '__dataclass_fields__', '__dataclass_params__', '__delattr__', '__dict__', '__dir__', '__doc__', '__eq__', '__format__', '__ge__', '__getattribute__', '__getstate__', '__gt__', '__hash__', '__init__', '__init_subclass__', '__le__', '__lt__', '__match_args__', '__module__', '__ne__', '__new__', '__reduce__', '__reduce_ex__', '__repr__', '__setattr__', '__sizeof__', '__str__', '__subclasshook__', '__weakref__', 'author', 'extras', 'favicon', 'highlight_scores', 'highlights', 'id', 'image', 'published_date', 'score', 'subpages', 'summary', 'text', 'title', 'url']\n",
            "Data de Publicação: 2025-01-22T00:00:00.000Z\n",
            "Autor: \n",
            "Resumo: Este artigo explora o uso de sistemas de IA agentivos em serviços financeiros, especificamente para modelagem e gestão de riscos de modelos.  Os autores constroem \"equipes\" de agentes de IA que colaboram para realizar tarefas complexas. Uma equipe se concentra em modelagem (análise exploratória de dados, engenharia de recursos, seleção de modelos, etc.), e outra em gestão de riscos de modelos (verificação de conformidade, replicação de modelos, análise de resultados, etc.).  A eficácia dessas equipes é demonstrada em exemplos numéricos aplicados à detecção de fraudes em cartões de crédito, aprovação de cartões de crédito e modelagem de risco de crédito de portfólio.  O trabalho se baseia em modelos de linguagem grandes (LLMs) e seus recursos de colaboração multiagente.\n",
            "\n",
            "\n",
            "--------------------------------------------------------------------------------\n",
            "\n"
          ]
        }
      ]
    },
    {
      "cell_type": "markdown",
      "source": [
        "#<font color = blue> Case 2 - Seach sem ADS"
      ],
      "metadata": {
        "id": "nR9qlFEhqEMg"
      }
    },
    {
      "cell_type": "markdown",
      "source": [
        "## Repositório Github"
      ],
      "metadata": {
        "id": "YaBIzoKzugbO"
      }
    },
    {
      "cell_type": "markdown",
      "source": [
        "https://github.com/cienciadosdados/morphic"
      ],
      "metadata": {
        "id": "pfO1fm0LupGe"
      }
    },
    {
      "cell_type": "markdown",
      "source": [
        "https://www.mermaidchart.com/raw/24630f1f-71a1-46bb-bc76-4400c7fa166c?theme=light&version=v0.1&format=svg"
      ],
      "metadata": {
        "id": "86iaKgAjWVML"
      }
    },
    {
      "cell_type": "markdown",
      "source": [
        "https://aidevweek-search.vercel.app/"
      ],
      "metadata": {
        "id": "Y3au-YiRL71p"
      }
    },
    {
      "cell_type": "markdown",
      "source": [
        "**Muito mais do que um projeto técnico — é uma oportunidade de negócio, aprendizado e inovação!**"
      ],
      "metadata": {
        "id": "tA5-7A1BZcb6"
      }
    },
    {
      "cell_type": "markdown",
      "source": [
        "# <Font Color= blue>Case Phidata"
      ],
      "metadata": {
        "id": "kTUZ0CVg-LcR"
      }
    },
    {
      "cell_type": "markdown",
      "source": [
        "https://github.com/phidatahq/phidata"
      ],
      "metadata": {
        "id": "7lCLqqW5-N2j"
      }
    },
    {
      "cell_type": "markdown",
      "source": [
        "#FIM"
      ],
      "metadata": {
        "id": "tReUJyJo2mkB"
      }
    },
    {
      "cell_type": "markdown",
      "source": [
        "##<font color= Brawn>Scripts e Anexos\n",
        "https://linktr.ee/cienciadosdados"
      ],
      "metadata": {
        "id": "WVeDXIhz26zM"
      }
    }
  ]
}